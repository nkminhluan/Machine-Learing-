{
 "cells": [
  {
   "cell_type": "code",
   "execution_count": 1,
   "metadata": {},
   "outputs": [],
   "source": [
    "from sklearn import preprocessing\n",
    "import pandas as pd"
   ]
  },
  {
   "cell_type": "markdown",
   "metadata": {},
   "source": [
    "# Đọc file csv"
   ]
  },
  {
   "cell_type": "code",
   "execution_count": 2,
   "metadata": {
    "scrolled": false
   },
   "outputs": [
    {
     "data": {
      "text/html": [
       "<div>\n",
       "<style scoped>\n",
       "    .dataframe tbody tr th:only-of-type {\n",
       "        vertical-align: middle;\n",
       "    }\n",
       "\n",
       "    .dataframe tbody tr th {\n",
       "        vertical-align: top;\n",
       "    }\n",
       "\n",
       "    .dataframe thead th {\n",
       "        text-align: right;\n",
       "    }\n",
       "</style>\n",
       "<table border=\"1\" class=\"dataframe\">\n",
       "  <thead>\n",
       "    <tr style=\"text-align: right;\">\n",
       "      <th></th>\n",
       "      <th>age</th>\n",
       "      <th>job</th>\n",
       "      <th>marital</th>\n",
       "      <th>education</th>\n",
       "      <th>default</th>\n",
       "      <th>housing</th>\n",
       "      <th>loan</th>\n",
       "      <th>contact</th>\n",
       "      <th>month</th>\n",
       "      <th>day_of_week</th>\n",
       "      <th>...</th>\n",
       "      <th>campaign</th>\n",
       "      <th>pdays</th>\n",
       "      <th>previous</th>\n",
       "      <th>poutcome</th>\n",
       "      <th>emp.var.rate</th>\n",
       "      <th>cons.price.idx</th>\n",
       "      <th>cons.conf.idx</th>\n",
       "      <th>euribor3m</th>\n",
       "      <th>nr.employed</th>\n",
       "      <th>y</th>\n",
       "    </tr>\n",
       "  </thead>\n",
       "  <tbody>\n",
       "    <tr>\n",
       "      <th>0</th>\n",
       "      <td>56</td>\n",
       "      <td>housemaid</td>\n",
       "      <td>married</td>\n",
       "      <td>basic.4y</td>\n",
       "      <td>no</td>\n",
       "      <td>no</td>\n",
       "      <td>no</td>\n",
       "      <td>telephone</td>\n",
       "      <td>may</td>\n",
       "      <td>mon</td>\n",
       "      <td>...</td>\n",
       "      <td>1</td>\n",
       "      <td>999</td>\n",
       "      <td>0</td>\n",
       "      <td>nonexistent</td>\n",
       "      <td>1.1</td>\n",
       "      <td>93.994</td>\n",
       "      <td>-36.4</td>\n",
       "      <td>4.857</td>\n",
       "      <td>5191.0</td>\n",
       "      <td>no</td>\n",
       "    </tr>\n",
       "    <tr>\n",
       "      <th>1</th>\n",
       "      <td>57</td>\n",
       "      <td>services</td>\n",
       "      <td>married</td>\n",
       "      <td>high.school</td>\n",
       "      <td>unknown</td>\n",
       "      <td>no</td>\n",
       "      <td>no</td>\n",
       "      <td>telephone</td>\n",
       "      <td>may</td>\n",
       "      <td>mon</td>\n",
       "      <td>...</td>\n",
       "      <td>1</td>\n",
       "      <td>999</td>\n",
       "      <td>0</td>\n",
       "      <td>nonexistent</td>\n",
       "      <td>1.1</td>\n",
       "      <td>93.994</td>\n",
       "      <td>-36.4</td>\n",
       "      <td>4.857</td>\n",
       "      <td>5191.0</td>\n",
       "      <td>no</td>\n",
       "    </tr>\n",
       "    <tr>\n",
       "      <th>2</th>\n",
       "      <td>37</td>\n",
       "      <td>services</td>\n",
       "      <td>married</td>\n",
       "      <td>high.school</td>\n",
       "      <td>no</td>\n",
       "      <td>yes</td>\n",
       "      <td>no</td>\n",
       "      <td>telephone</td>\n",
       "      <td>may</td>\n",
       "      <td>mon</td>\n",
       "      <td>...</td>\n",
       "      <td>1</td>\n",
       "      <td>999</td>\n",
       "      <td>0</td>\n",
       "      <td>nonexistent</td>\n",
       "      <td>1.1</td>\n",
       "      <td>93.994</td>\n",
       "      <td>-36.4</td>\n",
       "      <td>4.857</td>\n",
       "      <td>5191.0</td>\n",
       "      <td>no</td>\n",
       "    </tr>\n",
       "    <tr>\n",
       "      <th>3</th>\n",
       "      <td>40</td>\n",
       "      <td>admin.</td>\n",
       "      <td>married</td>\n",
       "      <td>basic.6y</td>\n",
       "      <td>no</td>\n",
       "      <td>no</td>\n",
       "      <td>no</td>\n",
       "      <td>telephone</td>\n",
       "      <td>may</td>\n",
       "      <td>mon</td>\n",
       "      <td>...</td>\n",
       "      <td>1</td>\n",
       "      <td>999</td>\n",
       "      <td>0</td>\n",
       "      <td>nonexistent</td>\n",
       "      <td>1.1</td>\n",
       "      <td>93.994</td>\n",
       "      <td>-36.4</td>\n",
       "      <td>4.857</td>\n",
       "      <td>5191.0</td>\n",
       "      <td>no</td>\n",
       "    </tr>\n",
       "    <tr>\n",
       "      <th>4</th>\n",
       "      <td>56</td>\n",
       "      <td>services</td>\n",
       "      <td>married</td>\n",
       "      <td>high.school</td>\n",
       "      <td>no</td>\n",
       "      <td>no</td>\n",
       "      <td>yes</td>\n",
       "      <td>telephone</td>\n",
       "      <td>may</td>\n",
       "      <td>mon</td>\n",
       "      <td>...</td>\n",
       "      <td>1</td>\n",
       "      <td>999</td>\n",
       "      <td>0</td>\n",
       "      <td>nonexistent</td>\n",
       "      <td>1.1</td>\n",
       "      <td>93.994</td>\n",
       "      <td>-36.4</td>\n",
       "      <td>4.857</td>\n",
       "      <td>5191.0</td>\n",
       "      <td>no</td>\n",
       "    </tr>\n",
       "    <tr>\n",
       "      <th>...</th>\n",
       "      <td>...</td>\n",
       "      <td>...</td>\n",
       "      <td>...</td>\n",
       "      <td>...</td>\n",
       "      <td>...</td>\n",
       "      <td>...</td>\n",
       "      <td>...</td>\n",
       "      <td>...</td>\n",
       "      <td>...</td>\n",
       "      <td>...</td>\n",
       "      <td>...</td>\n",
       "      <td>...</td>\n",
       "      <td>...</td>\n",
       "      <td>...</td>\n",
       "      <td>...</td>\n",
       "      <td>...</td>\n",
       "      <td>...</td>\n",
       "      <td>...</td>\n",
       "      <td>...</td>\n",
       "      <td>...</td>\n",
       "      <td>...</td>\n",
       "    </tr>\n",
       "    <tr>\n",
       "      <th>41183</th>\n",
       "      <td>73</td>\n",
       "      <td>retired</td>\n",
       "      <td>married</td>\n",
       "      <td>professional.course</td>\n",
       "      <td>no</td>\n",
       "      <td>yes</td>\n",
       "      <td>no</td>\n",
       "      <td>cellular</td>\n",
       "      <td>nov</td>\n",
       "      <td>fri</td>\n",
       "      <td>...</td>\n",
       "      <td>1</td>\n",
       "      <td>999</td>\n",
       "      <td>0</td>\n",
       "      <td>nonexistent</td>\n",
       "      <td>-1.1</td>\n",
       "      <td>94.767</td>\n",
       "      <td>-50.8</td>\n",
       "      <td>1.028</td>\n",
       "      <td>4963.6</td>\n",
       "      <td>yes</td>\n",
       "    </tr>\n",
       "    <tr>\n",
       "      <th>41184</th>\n",
       "      <td>46</td>\n",
       "      <td>blue-collar</td>\n",
       "      <td>married</td>\n",
       "      <td>professional.course</td>\n",
       "      <td>no</td>\n",
       "      <td>no</td>\n",
       "      <td>no</td>\n",
       "      <td>cellular</td>\n",
       "      <td>nov</td>\n",
       "      <td>fri</td>\n",
       "      <td>...</td>\n",
       "      <td>1</td>\n",
       "      <td>999</td>\n",
       "      <td>0</td>\n",
       "      <td>nonexistent</td>\n",
       "      <td>-1.1</td>\n",
       "      <td>94.767</td>\n",
       "      <td>-50.8</td>\n",
       "      <td>1.028</td>\n",
       "      <td>4963.6</td>\n",
       "      <td>no</td>\n",
       "    </tr>\n",
       "    <tr>\n",
       "      <th>41185</th>\n",
       "      <td>56</td>\n",
       "      <td>retired</td>\n",
       "      <td>married</td>\n",
       "      <td>university.degree</td>\n",
       "      <td>no</td>\n",
       "      <td>yes</td>\n",
       "      <td>no</td>\n",
       "      <td>cellular</td>\n",
       "      <td>nov</td>\n",
       "      <td>fri</td>\n",
       "      <td>...</td>\n",
       "      <td>2</td>\n",
       "      <td>999</td>\n",
       "      <td>0</td>\n",
       "      <td>nonexistent</td>\n",
       "      <td>-1.1</td>\n",
       "      <td>94.767</td>\n",
       "      <td>-50.8</td>\n",
       "      <td>1.028</td>\n",
       "      <td>4963.6</td>\n",
       "      <td>no</td>\n",
       "    </tr>\n",
       "    <tr>\n",
       "      <th>41186</th>\n",
       "      <td>44</td>\n",
       "      <td>technician</td>\n",
       "      <td>married</td>\n",
       "      <td>professional.course</td>\n",
       "      <td>no</td>\n",
       "      <td>no</td>\n",
       "      <td>no</td>\n",
       "      <td>cellular</td>\n",
       "      <td>nov</td>\n",
       "      <td>fri</td>\n",
       "      <td>...</td>\n",
       "      <td>1</td>\n",
       "      <td>999</td>\n",
       "      <td>0</td>\n",
       "      <td>nonexistent</td>\n",
       "      <td>-1.1</td>\n",
       "      <td>94.767</td>\n",
       "      <td>-50.8</td>\n",
       "      <td>1.028</td>\n",
       "      <td>4963.6</td>\n",
       "      <td>yes</td>\n",
       "    </tr>\n",
       "    <tr>\n",
       "      <th>41187</th>\n",
       "      <td>74</td>\n",
       "      <td>retired</td>\n",
       "      <td>married</td>\n",
       "      <td>professional.course</td>\n",
       "      <td>no</td>\n",
       "      <td>yes</td>\n",
       "      <td>no</td>\n",
       "      <td>cellular</td>\n",
       "      <td>nov</td>\n",
       "      <td>fri</td>\n",
       "      <td>...</td>\n",
       "      <td>3</td>\n",
       "      <td>999</td>\n",
       "      <td>1</td>\n",
       "      <td>failure</td>\n",
       "      <td>-1.1</td>\n",
       "      <td>94.767</td>\n",
       "      <td>-50.8</td>\n",
       "      <td>1.028</td>\n",
       "      <td>4963.6</td>\n",
       "      <td>no</td>\n",
       "    </tr>\n",
       "  </tbody>\n",
       "</table>\n",
       "<p>41188 rows × 21 columns</p>\n",
       "</div>"
      ],
      "text/plain": [
       "       age          job  marital            education  default housing loan  \\\n",
       "0       56    housemaid  married             basic.4y       no      no   no   \n",
       "1       57     services  married          high.school  unknown      no   no   \n",
       "2       37     services  married          high.school       no     yes   no   \n",
       "3       40       admin.  married             basic.6y       no      no   no   \n",
       "4       56     services  married          high.school       no      no  yes   \n",
       "...    ...          ...      ...                  ...      ...     ...  ...   \n",
       "41183   73      retired  married  professional.course       no     yes   no   \n",
       "41184   46  blue-collar  married  professional.course       no      no   no   \n",
       "41185   56      retired  married    university.degree       no     yes   no   \n",
       "41186   44   technician  married  professional.course       no      no   no   \n",
       "41187   74      retired  married  professional.course       no     yes   no   \n",
       "\n",
       "         contact month day_of_week  ...  campaign  pdays  previous  \\\n",
       "0      telephone   may         mon  ...         1    999         0   \n",
       "1      telephone   may         mon  ...         1    999         0   \n",
       "2      telephone   may         mon  ...         1    999         0   \n",
       "3      telephone   may         mon  ...         1    999         0   \n",
       "4      telephone   may         mon  ...         1    999         0   \n",
       "...          ...   ...         ...  ...       ...    ...       ...   \n",
       "41183   cellular   nov         fri  ...         1    999         0   \n",
       "41184   cellular   nov         fri  ...         1    999         0   \n",
       "41185   cellular   nov         fri  ...         2    999         0   \n",
       "41186   cellular   nov         fri  ...         1    999         0   \n",
       "41187   cellular   nov         fri  ...         3    999         1   \n",
       "\n",
       "          poutcome emp.var.rate  cons.price.idx  cons.conf.idx  euribor3m  \\\n",
       "0      nonexistent          1.1          93.994          -36.4      4.857   \n",
       "1      nonexistent          1.1          93.994          -36.4      4.857   \n",
       "2      nonexistent          1.1          93.994          -36.4      4.857   \n",
       "3      nonexistent          1.1          93.994          -36.4      4.857   \n",
       "4      nonexistent          1.1          93.994          -36.4      4.857   \n",
       "...            ...          ...             ...            ...        ...   \n",
       "41183  nonexistent         -1.1          94.767          -50.8      1.028   \n",
       "41184  nonexistent         -1.1          94.767          -50.8      1.028   \n",
       "41185  nonexistent         -1.1          94.767          -50.8      1.028   \n",
       "41186  nonexistent         -1.1          94.767          -50.8      1.028   \n",
       "41187      failure         -1.1          94.767          -50.8      1.028   \n",
       "\n",
       "       nr.employed    y  \n",
       "0           5191.0   no  \n",
       "1           5191.0   no  \n",
       "2           5191.0   no  \n",
       "3           5191.0   no  \n",
       "4           5191.0   no  \n",
       "...            ...  ...  \n",
       "41183       4963.6  yes  \n",
       "41184       4963.6   no  \n",
       "41185       4963.6   no  \n",
       "41186       4963.6  yes  \n",
       "41187       4963.6   no  \n",
       "\n",
       "[41188 rows x 21 columns]"
      ]
     },
     "execution_count": 2,
     "metadata": {},
     "output_type": "execute_result"
    }
   ],
   "source": [
    "df = pd.read_csv('bank-additional-full.csv', delimiter=';')\n",
    "df"
   ]
  },
  {
   "cell_type": "code",
   "execution_count": 3,
   "metadata": {},
   "outputs": [
    {
     "data": {
      "text/plain": [
       "(41188, 21)"
      ]
     },
     "execution_count": 3,
     "metadata": {},
     "output_type": "execute_result"
    }
   ],
   "source": [
    "df.shape"
   ]
  },
  {
   "cell_type": "code",
   "execution_count": 4,
   "metadata": {},
   "outputs": [
    {
     "data": {
      "text/html": [
       "<div>\n",
       "<style scoped>\n",
       "    .dataframe tbody tr th:only-of-type {\n",
       "        vertical-align: middle;\n",
       "    }\n",
       "\n",
       "    .dataframe tbody tr th {\n",
       "        vertical-align: top;\n",
       "    }\n",
       "\n",
       "    .dataframe thead th {\n",
       "        text-align: right;\n",
       "    }\n",
       "</style>\n",
       "<table border=\"1\" class=\"dataframe\">\n",
       "  <thead>\n",
       "    <tr style=\"text-align: right;\">\n",
       "      <th></th>\n",
       "      <th>age</th>\n",
       "      <th>duration</th>\n",
       "      <th>campaign</th>\n",
       "      <th>pdays</th>\n",
       "      <th>previous</th>\n",
       "      <th>emp.var.rate</th>\n",
       "      <th>cons.price.idx</th>\n",
       "      <th>cons.conf.idx</th>\n",
       "      <th>euribor3m</th>\n",
       "      <th>nr.employed</th>\n",
       "    </tr>\n",
       "  </thead>\n",
       "  <tbody>\n",
       "    <tr>\n",
       "      <th>count</th>\n",
       "      <td>41188.00000</td>\n",
       "      <td>41188.000000</td>\n",
       "      <td>41188.000000</td>\n",
       "      <td>41188.000000</td>\n",
       "      <td>41188.000000</td>\n",
       "      <td>41188.000000</td>\n",
       "      <td>41188.000000</td>\n",
       "      <td>41188.000000</td>\n",
       "      <td>41188.000000</td>\n",
       "      <td>41188.000000</td>\n",
       "    </tr>\n",
       "    <tr>\n",
       "      <th>mean</th>\n",
       "      <td>40.02406</td>\n",
       "      <td>258.285010</td>\n",
       "      <td>2.567593</td>\n",
       "      <td>962.475454</td>\n",
       "      <td>0.172963</td>\n",
       "      <td>0.081886</td>\n",
       "      <td>93.575664</td>\n",
       "      <td>-40.502600</td>\n",
       "      <td>3.621291</td>\n",
       "      <td>5167.035911</td>\n",
       "    </tr>\n",
       "    <tr>\n",
       "      <th>std</th>\n",
       "      <td>10.42125</td>\n",
       "      <td>259.279249</td>\n",
       "      <td>2.770014</td>\n",
       "      <td>186.910907</td>\n",
       "      <td>0.494901</td>\n",
       "      <td>1.570960</td>\n",
       "      <td>0.578840</td>\n",
       "      <td>4.628198</td>\n",
       "      <td>1.734447</td>\n",
       "      <td>72.251528</td>\n",
       "    </tr>\n",
       "    <tr>\n",
       "      <th>min</th>\n",
       "      <td>17.00000</td>\n",
       "      <td>0.000000</td>\n",
       "      <td>1.000000</td>\n",
       "      <td>0.000000</td>\n",
       "      <td>0.000000</td>\n",
       "      <td>-3.400000</td>\n",
       "      <td>92.201000</td>\n",
       "      <td>-50.800000</td>\n",
       "      <td>0.634000</td>\n",
       "      <td>4963.600000</td>\n",
       "    </tr>\n",
       "    <tr>\n",
       "      <th>25%</th>\n",
       "      <td>32.00000</td>\n",
       "      <td>102.000000</td>\n",
       "      <td>1.000000</td>\n",
       "      <td>999.000000</td>\n",
       "      <td>0.000000</td>\n",
       "      <td>-1.800000</td>\n",
       "      <td>93.075000</td>\n",
       "      <td>-42.700000</td>\n",
       "      <td>1.344000</td>\n",
       "      <td>5099.100000</td>\n",
       "    </tr>\n",
       "    <tr>\n",
       "      <th>50%</th>\n",
       "      <td>38.00000</td>\n",
       "      <td>180.000000</td>\n",
       "      <td>2.000000</td>\n",
       "      <td>999.000000</td>\n",
       "      <td>0.000000</td>\n",
       "      <td>1.100000</td>\n",
       "      <td>93.749000</td>\n",
       "      <td>-41.800000</td>\n",
       "      <td>4.857000</td>\n",
       "      <td>5191.000000</td>\n",
       "    </tr>\n",
       "    <tr>\n",
       "      <th>75%</th>\n",
       "      <td>47.00000</td>\n",
       "      <td>319.000000</td>\n",
       "      <td>3.000000</td>\n",
       "      <td>999.000000</td>\n",
       "      <td>0.000000</td>\n",
       "      <td>1.400000</td>\n",
       "      <td>93.994000</td>\n",
       "      <td>-36.400000</td>\n",
       "      <td>4.961000</td>\n",
       "      <td>5228.100000</td>\n",
       "    </tr>\n",
       "    <tr>\n",
       "      <th>max</th>\n",
       "      <td>98.00000</td>\n",
       "      <td>4918.000000</td>\n",
       "      <td>56.000000</td>\n",
       "      <td>999.000000</td>\n",
       "      <td>7.000000</td>\n",
       "      <td>1.400000</td>\n",
       "      <td>94.767000</td>\n",
       "      <td>-26.900000</td>\n",
       "      <td>5.045000</td>\n",
       "      <td>5228.100000</td>\n",
       "    </tr>\n",
       "  </tbody>\n",
       "</table>\n",
       "</div>"
      ],
      "text/plain": [
       "               age      duration      campaign         pdays      previous  \\\n",
       "count  41188.00000  41188.000000  41188.000000  41188.000000  41188.000000   \n",
       "mean      40.02406    258.285010      2.567593    962.475454      0.172963   \n",
       "std       10.42125    259.279249      2.770014    186.910907      0.494901   \n",
       "min       17.00000      0.000000      1.000000      0.000000      0.000000   \n",
       "25%       32.00000    102.000000      1.000000    999.000000      0.000000   \n",
       "50%       38.00000    180.000000      2.000000    999.000000      0.000000   \n",
       "75%       47.00000    319.000000      3.000000    999.000000      0.000000   \n",
       "max       98.00000   4918.000000     56.000000    999.000000      7.000000   \n",
       "\n",
       "       emp.var.rate  cons.price.idx  cons.conf.idx     euribor3m   nr.employed  \n",
       "count  41188.000000    41188.000000   41188.000000  41188.000000  41188.000000  \n",
       "mean       0.081886       93.575664     -40.502600      3.621291   5167.035911  \n",
       "std        1.570960        0.578840       4.628198      1.734447     72.251528  \n",
       "min       -3.400000       92.201000     -50.800000      0.634000   4963.600000  \n",
       "25%       -1.800000       93.075000     -42.700000      1.344000   5099.100000  \n",
       "50%        1.100000       93.749000     -41.800000      4.857000   5191.000000  \n",
       "75%        1.400000       93.994000     -36.400000      4.961000   5228.100000  \n",
       "max        1.400000       94.767000     -26.900000      5.045000   5228.100000  "
      ]
     },
     "execution_count": 4,
     "metadata": {},
     "output_type": "execute_result"
    }
   ],
   "source": [
    "df.describe()"
   ]
  },
  {
   "cell_type": "code",
   "execution_count": 5,
   "metadata": {},
   "outputs": [
    {
     "name": "stdout",
     "output_type": "stream",
     "text": [
      "<class 'pandas.core.frame.DataFrame'>\n",
      "RangeIndex: 41188 entries, 0 to 41187\n",
      "Data columns (total 21 columns):\n",
      " #   Column          Non-Null Count  Dtype  \n",
      "---  ------          --------------  -----  \n",
      " 0   age             41188 non-null  int64  \n",
      " 1   job             41188 non-null  object \n",
      " 2   marital         41188 non-null  object \n",
      " 3   education       41188 non-null  object \n",
      " 4   default         41188 non-null  object \n",
      " 5   housing         41188 non-null  object \n",
      " 6   loan            41188 non-null  object \n",
      " 7   contact         41188 non-null  object \n",
      " 8   month           41188 non-null  object \n",
      " 9   day_of_week     41188 non-null  object \n",
      " 10  duration        41188 non-null  int64  \n",
      " 11  campaign        41188 non-null  int64  \n",
      " 12  pdays           41188 non-null  int64  \n",
      " 13  previous        41188 non-null  int64  \n",
      " 14  poutcome        41188 non-null  object \n",
      " 15  emp.var.rate    41188 non-null  float64\n",
      " 16  cons.price.idx  41188 non-null  float64\n",
      " 17  cons.conf.idx   41188 non-null  float64\n",
      " 18  euribor3m       41188 non-null  float64\n",
      " 19  nr.employed     41188 non-null  float64\n",
      " 20  y               41188 non-null  object \n",
      "dtypes: float64(5), int64(5), object(11)\n",
      "memory usage: 6.6+ MB\n"
     ]
    }
   ],
   "source": [
    "df.info()"
   ]
  },
  {
   "cell_type": "code",
   "execution_count": 6,
   "metadata": {},
   "outputs": [],
   "source": [
    "#df.drop(['duration','contact','month', 'day_of_week','default','pdays',],axis=1,inplace=True)"
   ]
  },
  {
   "cell_type": "code",
   "execution_count": 7,
   "metadata": {},
   "outputs": [
    {
     "data": {
      "text/html": [
       "<div>\n",
       "<style scoped>\n",
       "    .dataframe tbody tr th:only-of-type {\n",
       "        vertical-align: middle;\n",
       "    }\n",
       "\n",
       "    .dataframe tbody tr th {\n",
       "        vertical-align: top;\n",
       "    }\n",
       "\n",
       "    .dataframe thead th {\n",
       "        text-align: right;\n",
       "    }\n",
       "</style>\n",
       "<table border=\"1\" class=\"dataframe\">\n",
       "  <thead>\n",
       "    <tr style=\"text-align: right;\">\n",
       "      <th></th>\n",
       "      <th>age</th>\n",
       "      <th>job</th>\n",
       "      <th>marital</th>\n",
       "      <th>education</th>\n",
       "      <th>default</th>\n",
       "      <th>housing</th>\n",
       "      <th>loan</th>\n",
       "      <th>contact</th>\n",
       "      <th>month</th>\n",
       "      <th>day_of_week</th>\n",
       "      <th>...</th>\n",
       "      <th>campaign</th>\n",
       "      <th>pdays</th>\n",
       "      <th>previous</th>\n",
       "      <th>poutcome</th>\n",
       "      <th>emp.var.rate</th>\n",
       "      <th>cons.price.idx</th>\n",
       "      <th>cons.conf.idx</th>\n",
       "      <th>euribor3m</th>\n",
       "      <th>nr.employed</th>\n",
       "      <th>y</th>\n",
       "    </tr>\n",
       "  </thead>\n",
       "  <tbody>\n",
       "    <tr>\n",
       "      <th>0</th>\n",
       "      <td>True</td>\n",
       "      <td>True</td>\n",
       "      <td>True</td>\n",
       "      <td>True</td>\n",
       "      <td>True</td>\n",
       "      <td>True</td>\n",
       "      <td>True</td>\n",
       "      <td>True</td>\n",
       "      <td>True</td>\n",
       "      <td>True</td>\n",
       "      <td>...</td>\n",
       "      <td>True</td>\n",
       "      <td>True</td>\n",
       "      <td>True</td>\n",
       "      <td>True</td>\n",
       "      <td>True</td>\n",
       "      <td>True</td>\n",
       "      <td>True</td>\n",
       "      <td>True</td>\n",
       "      <td>True</td>\n",
       "      <td>True</td>\n",
       "    </tr>\n",
       "    <tr>\n",
       "      <th>1</th>\n",
       "      <td>True</td>\n",
       "      <td>True</td>\n",
       "      <td>True</td>\n",
       "      <td>True</td>\n",
       "      <td>True</td>\n",
       "      <td>True</td>\n",
       "      <td>True</td>\n",
       "      <td>True</td>\n",
       "      <td>True</td>\n",
       "      <td>True</td>\n",
       "      <td>...</td>\n",
       "      <td>True</td>\n",
       "      <td>True</td>\n",
       "      <td>True</td>\n",
       "      <td>True</td>\n",
       "      <td>True</td>\n",
       "      <td>True</td>\n",
       "      <td>True</td>\n",
       "      <td>True</td>\n",
       "      <td>True</td>\n",
       "      <td>True</td>\n",
       "    </tr>\n",
       "    <tr>\n",
       "      <th>2</th>\n",
       "      <td>True</td>\n",
       "      <td>True</td>\n",
       "      <td>True</td>\n",
       "      <td>True</td>\n",
       "      <td>True</td>\n",
       "      <td>True</td>\n",
       "      <td>True</td>\n",
       "      <td>True</td>\n",
       "      <td>True</td>\n",
       "      <td>True</td>\n",
       "      <td>...</td>\n",
       "      <td>True</td>\n",
       "      <td>True</td>\n",
       "      <td>True</td>\n",
       "      <td>True</td>\n",
       "      <td>True</td>\n",
       "      <td>True</td>\n",
       "      <td>True</td>\n",
       "      <td>True</td>\n",
       "      <td>True</td>\n",
       "      <td>True</td>\n",
       "    </tr>\n",
       "    <tr>\n",
       "      <th>3</th>\n",
       "      <td>True</td>\n",
       "      <td>True</td>\n",
       "      <td>True</td>\n",
       "      <td>True</td>\n",
       "      <td>True</td>\n",
       "      <td>True</td>\n",
       "      <td>True</td>\n",
       "      <td>True</td>\n",
       "      <td>True</td>\n",
       "      <td>True</td>\n",
       "      <td>...</td>\n",
       "      <td>True</td>\n",
       "      <td>True</td>\n",
       "      <td>True</td>\n",
       "      <td>True</td>\n",
       "      <td>True</td>\n",
       "      <td>True</td>\n",
       "      <td>True</td>\n",
       "      <td>True</td>\n",
       "      <td>True</td>\n",
       "      <td>True</td>\n",
       "    </tr>\n",
       "    <tr>\n",
       "      <th>4</th>\n",
       "      <td>True</td>\n",
       "      <td>True</td>\n",
       "      <td>True</td>\n",
       "      <td>True</td>\n",
       "      <td>True</td>\n",
       "      <td>True</td>\n",
       "      <td>True</td>\n",
       "      <td>True</td>\n",
       "      <td>True</td>\n",
       "      <td>True</td>\n",
       "      <td>...</td>\n",
       "      <td>True</td>\n",
       "      <td>True</td>\n",
       "      <td>True</td>\n",
       "      <td>True</td>\n",
       "      <td>True</td>\n",
       "      <td>True</td>\n",
       "      <td>True</td>\n",
       "      <td>True</td>\n",
       "      <td>True</td>\n",
       "      <td>True</td>\n",
       "    </tr>\n",
       "    <tr>\n",
       "      <th>...</th>\n",
       "      <td>...</td>\n",
       "      <td>...</td>\n",
       "      <td>...</td>\n",
       "      <td>...</td>\n",
       "      <td>...</td>\n",
       "      <td>...</td>\n",
       "      <td>...</td>\n",
       "      <td>...</td>\n",
       "      <td>...</td>\n",
       "      <td>...</td>\n",
       "      <td>...</td>\n",
       "      <td>...</td>\n",
       "      <td>...</td>\n",
       "      <td>...</td>\n",
       "      <td>...</td>\n",
       "      <td>...</td>\n",
       "      <td>...</td>\n",
       "      <td>...</td>\n",
       "      <td>...</td>\n",
       "      <td>...</td>\n",
       "      <td>...</td>\n",
       "    </tr>\n",
       "    <tr>\n",
       "      <th>41183</th>\n",
       "      <td>True</td>\n",
       "      <td>True</td>\n",
       "      <td>True</td>\n",
       "      <td>True</td>\n",
       "      <td>True</td>\n",
       "      <td>True</td>\n",
       "      <td>True</td>\n",
       "      <td>True</td>\n",
       "      <td>True</td>\n",
       "      <td>True</td>\n",
       "      <td>...</td>\n",
       "      <td>True</td>\n",
       "      <td>True</td>\n",
       "      <td>True</td>\n",
       "      <td>True</td>\n",
       "      <td>True</td>\n",
       "      <td>True</td>\n",
       "      <td>True</td>\n",
       "      <td>True</td>\n",
       "      <td>True</td>\n",
       "      <td>True</td>\n",
       "    </tr>\n",
       "    <tr>\n",
       "      <th>41184</th>\n",
       "      <td>True</td>\n",
       "      <td>True</td>\n",
       "      <td>True</td>\n",
       "      <td>True</td>\n",
       "      <td>True</td>\n",
       "      <td>True</td>\n",
       "      <td>True</td>\n",
       "      <td>True</td>\n",
       "      <td>True</td>\n",
       "      <td>True</td>\n",
       "      <td>...</td>\n",
       "      <td>True</td>\n",
       "      <td>True</td>\n",
       "      <td>True</td>\n",
       "      <td>True</td>\n",
       "      <td>True</td>\n",
       "      <td>True</td>\n",
       "      <td>True</td>\n",
       "      <td>True</td>\n",
       "      <td>True</td>\n",
       "      <td>True</td>\n",
       "    </tr>\n",
       "    <tr>\n",
       "      <th>41185</th>\n",
       "      <td>True</td>\n",
       "      <td>True</td>\n",
       "      <td>True</td>\n",
       "      <td>True</td>\n",
       "      <td>True</td>\n",
       "      <td>True</td>\n",
       "      <td>True</td>\n",
       "      <td>True</td>\n",
       "      <td>True</td>\n",
       "      <td>True</td>\n",
       "      <td>...</td>\n",
       "      <td>True</td>\n",
       "      <td>True</td>\n",
       "      <td>True</td>\n",
       "      <td>True</td>\n",
       "      <td>True</td>\n",
       "      <td>True</td>\n",
       "      <td>True</td>\n",
       "      <td>True</td>\n",
       "      <td>True</td>\n",
       "      <td>True</td>\n",
       "    </tr>\n",
       "    <tr>\n",
       "      <th>41186</th>\n",
       "      <td>True</td>\n",
       "      <td>True</td>\n",
       "      <td>True</td>\n",
       "      <td>True</td>\n",
       "      <td>True</td>\n",
       "      <td>True</td>\n",
       "      <td>True</td>\n",
       "      <td>True</td>\n",
       "      <td>True</td>\n",
       "      <td>True</td>\n",
       "      <td>...</td>\n",
       "      <td>True</td>\n",
       "      <td>True</td>\n",
       "      <td>True</td>\n",
       "      <td>True</td>\n",
       "      <td>True</td>\n",
       "      <td>True</td>\n",
       "      <td>True</td>\n",
       "      <td>True</td>\n",
       "      <td>True</td>\n",
       "      <td>True</td>\n",
       "    </tr>\n",
       "    <tr>\n",
       "      <th>41187</th>\n",
       "      <td>True</td>\n",
       "      <td>True</td>\n",
       "      <td>True</td>\n",
       "      <td>True</td>\n",
       "      <td>True</td>\n",
       "      <td>True</td>\n",
       "      <td>True</td>\n",
       "      <td>True</td>\n",
       "      <td>True</td>\n",
       "      <td>True</td>\n",
       "      <td>...</td>\n",
       "      <td>True</td>\n",
       "      <td>True</td>\n",
       "      <td>True</td>\n",
       "      <td>True</td>\n",
       "      <td>True</td>\n",
       "      <td>True</td>\n",
       "      <td>True</td>\n",
       "      <td>True</td>\n",
       "      <td>True</td>\n",
       "      <td>True</td>\n",
       "    </tr>\n",
       "  </tbody>\n",
       "</table>\n",
       "<p>41188 rows × 21 columns</p>\n",
       "</div>"
      ],
      "text/plain": [
       "        age   job  marital  education  default  housing  loan  contact  month  \\\n",
       "0      True  True     True       True     True     True  True     True   True   \n",
       "1      True  True     True       True     True     True  True     True   True   \n",
       "2      True  True     True       True     True     True  True     True   True   \n",
       "3      True  True     True       True     True     True  True     True   True   \n",
       "4      True  True     True       True     True     True  True     True   True   \n",
       "...     ...   ...      ...        ...      ...      ...   ...      ...    ...   \n",
       "41183  True  True     True       True     True     True  True     True   True   \n",
       "41184  True  True     True       True     True     True  True     True   True   \n",
       "41185  True  True     True       True     True     True  True     True   True   \n",
       "41186  True  True     True       True     True     True  True     True   True   \n",
       "41187  True  True     True       True     True     True  True     True   True   \n",
       "\n",
       "       day_of_week  ...  campaign  pdays  previous  poutcome  emp.var.rate  \\\n",
       "0             True  ...      True   True      True      True          True   \n",
       "1             True  ...      True   True      True      True          True   \n",
       "2             True  ...      True   True      True      True          True   \n",
       "3             True  ...      True   True      True      True          True   \n",
       "4             True  ...      True   True      True      True          True   \n",
       "...            ...  ...       ...    ...       ...       ...           ...   \n",
       "41183         True  ...      True   True      True      True          True   \n",
       "41184         True  ...      True   True      True      True          True   \n",
       "41185         True  ...      True   True      True      True          True   \n",
       "41186         True  ...      True   True      True      True          True   \n",
       "41187         True  ...      True   True      True      True          True   \n",
       "\n",
       "       cons.price.idx  cons.conf.idx  euribor3m  nr.employed     y  \n",
       "0                True           True       True         True  True  \n",
       "1                True           True       True         True  True  \n",
       "2                True           True       True         True  True  \n",
       "3                True           True       True         True  True  \n",
       "4                True           True       True         True  True  \n",
       "...               ...            ...        ...          ...   ...  \n",
       "41183            True           True       True         True  True  \n",
       "41184            True           True       True         True  True  \n",
       "41185            True           True       True         True  True  \n",
       "41186            True           True       True         True  True  \n",
       "41187            True           True       True         True  True  \n",
       "\n",
       "[41188 rows x 21 columns]"
      ]
     },
     "execution_count": 7,
     "metadata": {},
     "output_type": "execute_result"
    }
   ],
   "source": [
    "df.notnull()"
   ]
  },
  {
   "cell_type": "code",
   "execution_count": 8,
   "metadata": {},
   "outputs": [],
   "source": [
    "df.replace(['basic.6y','basic.4y', 'basic.9y'], 'basic', inplace=True)"
   ]
  },
  {
   "cell_type": "markdown",
   "metadata": {},
   "source": [
    "# Xử lí dữ liệu phù hợp\n"
   ]
  },
  {
   "cell_type": "code",
   "execution_count": 9,
   "metadata": {},
   "outputs": [],
   "source": [
    "le = preprocessing.LabelEncoder()"
   ]
  },
  {
   "cell_type": "code",
   "execution_count": 10,
   "metadata": {},
   "outputs": [],
   "source": [
    "df.duration = le.fit_transform(df.duration)\n",
    "df.contact = le.fit_transform(df.contact)\n",
    "df.month = le.fit_transform(df.month)\n",
    "df.day_of_week = le.fit_transform(df.day_of_week)\n",
    "df.default = le.fit_transform(df.default)\n",
    "df.pdays = le.fit_transform(df.pdays)\n",
    "df.job = le.fit_transform(df.job)\n",
    "df.marital = le.fit_transform(df.marital)\n",
    "df.education = le.fit_transform(df.education)\n",
    "df.housing = le.fit_transform(df.housing)\n",
    "df.loan = le.fit_transform(df.loan)\n",
    "df.poutcome = le.fit_transform(df.poutcome)\n",
    "df.y = le.fit_transform(df.y)"
   ]
  },
  {
   "cell_type": "markdown",
   "metadata": {},
   "source": [
    "# Scale"
   ]
  },
  {
   "cell_type": "code",
   "execution_count": 11,
   "metadata": {
    "pycharm": {
     "name": "#%%\n"
    }
   },
   "outputs": [],
   "source": [
    "scale_head = ['emp.var.rate', 'cons.price.idx', 'cons.conf.idx', 'euribor3m', 'nr.employed']\n",
    "scale = preprocessing.MinMaxScaler()\n",
    "for head in scale_head:\n",
    "    df[head] = scale.fit_transform(df[head].values.reshape(-1, 1))"
   ]
  },
  {
   "cell_type": "code",
   "execution_count": 12,
   "metadata": {},
   "outputs": [
    {
     "name": "stdout",
     "output_type": "stream",
     "text": [
      "Class 0: 36548 is no\n",
      "Class 1: 4640 is yes\n",
      "\n",
      "Imbalanced data :\n",
      "1    4640\n",
      "0    4640\n",
      "Name: y, dtype: int64\n"
     ]
    },
    {
     "data": {
      "image/png": "[encoded data removed]",
      "text/plain": [
       "<Figure size 432x288 with 1 Axes>"
      ]
     },
     "metadata": {
      "needs_background": "light"
     },
     "output_type": "display_data"
    }
   ],
   "source": [
    "types = df.y.value_counts()\n",
    "print('Class 0:', types[0],'is no')\n",
    "print('Class 1:', types[1],'is yes')\n",
    "df['y'].value_counts().plot(kind='bar',color='green')\n",
    "# count_class_0, count_class_1 = df.y.value_counts()\n",
    "\n",
    "class_0 = df[df['y'] == 0]\n",
    "class_1 = df[df['y'] == 1]\n",
    "\n",
    "df_class_0_under = class_0.sample(types[1])\n",
    "data = pd.concat([df_class_0_under, class_1], axis=0)\n",
    "\n",
    "print('\\nImbalanced data :')\n",
    "print(data.y.value_counts())\n",
    "\n"
   ]
  },
  {
   "cell_type": "code",
   "execution_count": 28,
   "metadata": {
    "pycharm": {
     "name": "#%%\n"
    }
   },
   "outputs": [
    {
     "data": {
      "text/html": [
       "<div>\n",
       "<style scoped>\n",
       "    .dataframe tbody tr th:only-of-type {\n",
       "        vertical-align: middle;\n",
       "    }\n",
       "\n",
       "    .dataframe tbody tr th {\n",
       "        vertical-align: top;\n",
       "    }\n",
       "\n",
       "    .dataframe thead th {\n",
       "        text-align: right;\n",
       "    }\n",
       "</style>\n",
       "<table border=\"1\" class=\"dataframe\">\n",
       "  <thead>\n",
       "    <tr style=\"text-align: right;\">\n",
       "      <th></th>\n",
       "      <th>age</th>\n",
       "      <th>job</th>\n",
       "      <th>marital</th>\n",
       "      <th>education</th>\n",
       "      <th>default</th>\n",
       "      <th>housing</th>\n",
       "      <th>loan</th>\n",
       "      <th>contact</th>\n",
       "      <th>month</th>\n",
       "      <th>day_of_week</th>\n",
       "      <th>duration</th>\n",
       "      <th>campaign</th>\n",
       "      <th>pdays</th>\n",
       "      <th>previous</th>\n",
       "      <th>poutcome</th>\n",
       "      <th>emp.var.rate</th>\n",
       "      <th>cons.price.idx</th>\n",
       "      <th>cons.conf.idx</th>\n",
       "      <th>euribor3m</th>\n",
       "      <th>nr.employed</th>\n",
       "    </tr>\n",
       "  </thead>\n",
       "  <tbody>\n",
       "    <tr>\n",
       "      <th>0</th>\n",
       "      <td>56</td>\n",
       "      <td>3</td>\n",
       "      <td>1</td>\n",
       "      <td>0</td>\n",
       "      <td>0</td>\n",
       "      <td>0</td>\n",
       "      <td>0</td>\n",
       "      <td>1</td>\n",
       "      <td>6</td>\n",
       "      <td>1</td>\n",
       "      <td>261</td>\n",
       "      <td>1</td>\n",
       "      <td>26</td>\n",
       "      <td>0</td>\n",
       "      <td>1</td>\n",
       "      <td>0.9375</td>\n",
       "      <td>0.698753</td>\n",
       "      <td>0.60251</td>\n",
       "      <td>0.957379</td>\n",
       "      <td>0.859735</td>\n",
       "    </tr>\n",
       "    <tr>\n",
       "      <th>1</th>\n",
       "      <td>57</td>\n",
       "      <td>7</td>\n",
       "      <td>1</td>\n",
       "      <td>1</td>\n",
       "      <td>1</td>\n",
       "      <td>0</td>\n",
       "      <td>0</td>\n",
       "      <td>1</td>\n",
       "      <td>6</td>\n",
       "      <td>1</td>\n",
       "      <td>149</td>\n",
       "      <td>1</td>\n",
       "      <td>26</td>\n",
       "      <td>0</td>\n",
       "      <td>1</td>\n",
       "      <td>0.9375</td>\n",
       "      <td>0.698753</td>\n",
       "      <td>0.60251</td>\n",
       "      <td>0.957379</td>\n",
       "      <td>0.859735</td>\n",
       "    </tr>\n",
       "    <tr>\n",
       "      <th>2</th>\n",
       "      <td>37</td>\n",
       "      <td>7</td>\n",
       "      <td>1</td>\n",
       "      <td>1</td>\n",
       "      <td>0</td>\n",
       "      <td>2</td>\n",
       "      <td>0</td>\n",
       "      <td>1</td>\n",
       "      <td>6</td>\n",
       "      <td>1</td>\n",
       "      <td>226</td>\n",
       "      <td>1</td>\n",
       "      <td>26</td>\n",
       "      <td>0</td>\n",
       "      <td>1</td>\n",
       "      <td>0.9375</td>\n",
       "      <td>0.698753</td>\n",
       "      <td>0.60251</td>\n",
       "      <td>0.957379</td>\n",
       "      <td>0.859735</td>\n",
       "    </tr>\n",
       "    <tr>\n",
       "      <th>3</th>\n",
       "      <td>40</td>\n",
       "      <td>0</td>\n",
       "      <td>1</td>\n",
       "      <td>0</td>\n",
       "      <td>0</td>\n",
       "      <td>0</td>\n",
       "      <td>0</td>\n",
       "      <td>1</td>\n",
       "      <td>6</td>\n",
       "      <td>1</td>\n",
       "      <td>151</td>\n",
       "      <td>1</td>\n",
       "      <td>26</td>\n",
       "      <td>0</td>\n",
       "      <td>1</td>\n",
       "      <td>0.9375</td>\n",
       "      <td>0.698753</td>\n",
       "      <td>0.60251</td>\n",
       "      <td>0.957379</td>\n",
       "      <td>0.859735</td>\n",
       "    </tr>\n",
       "    <tr>\n",
       "      <th>4</th>\n",
       "      <td>56</td>\n",
       "      <td>7</td>\n",
       "      <td>1</td>\n",
       "      <td>1</td>\n",
       "      <td>0</td>\n",
       "      <td>0</td>\n",
       "      <td>2</td>\n",
       "      <td>1</td>\n",
       "      <td>6</td>\n",
       "      <td>1</td>\n",
       "      <td>307</td>\n",
       "      <td>1</td>\n",
       "      <td>26</td>\n",
       "      <td>0</td>\n",
       "      <td>1</td>\n",
       "      <td>0.9375</td>\n",
       "      <td>0.698753</td>\n",
       "      <td>0.60251</td>\n",
       "      <td>0.957379</td>\n",
       "      <td>0.859735</td>\n",
       "    </tr>\n",
       "  </tbody>\n",
       "</table>\n",
       "</div>"
      ],
      "text/plain": [
       "   age  job  marital  education  default  housing  loan  contact  month  \\\n",
       "0   56    3        1          0        0        0     0        1      6   \n",
       "1   57    7        1          1        1        0     0        1      6   \n",
       "2   37    7        1          1        0        2     0        1      6   \n",
       "3   40    0        1          0        0        0     0        1      6   \n",
       "4   56    7        1          1        0        0     2        1      6   \n",
       "\n",
       "   day_of_week  duration  campaign  pdays  previous  poutcome  emp.var.rate  \\\n",
       "0            1       261         1     26         0         1        0.9375   \n",
       "1            1       149         1     26         0         1        0.9375   \n",
       "2            1       226         1     26         0         1        0.9375   \n",
       "3            1       151         1     26         0         1        0.9375   \n",
       "4            1       307         1     26         0         1        0.9375   \n",
       "\n",
       "   cons.price.idx  cons.conf.idx  euribor3m  nr.employed  \n",
       "0        0.698753        0.60251   0.957379     0.859735  \n",
       "1        0.698753        0.60251   0.957379     0.859735  \n",
       "2        0.698753        0.60251   0.957379     0.859735  \n",
       "3        0.698753        0.60251   0.957379     0.859735  \n",
       "4        0.698753        0.60251   0.957379     0.859735  "
      ]
     },
     "execution_count": 28,
     "metadata": {},
     "output_type": "execute_result"
    }
   ],
   "source": [
    "X = df.iloc[:,0:20]\n",
    "X[0:5]"
   ]
  },
  {
   "cell_type": "code",
   "execution_count": 29,
   "metadata": {},
   "outputs": [
    {
     "data": {
      "text/plain": [
       "2000    0\n",
       "2001    0\n",
       "2002    1\n",
       "2003    0\n",
       "2004    0\n",
       "2005    0\n",
       "2006    0\n",
       "2007    0\n",
       "2008    0\n",
       "2009    0\n",
       "Name: y, dtype: int64"
      ]
     },
     "execution_count": 29,
     "metadata": {},
     "output_type": "execute_result"
    }
   ],
   "source": [
    "y = df.iloc[:,20]\n",
    "y[2000:2010]"
   ]
  },
  {
   "cell_type": "markdown",
   "metadata": {},
   "source": [
    "# Train Test dữ liệu "
   ]
  },
  {
   "cell_type": "code",
   "execution_count": 30,
   "metadata": {},
   "outputs": [],
   "source": [
    "from sklearn.model_selection import train_test_split\n",
    "X_train, X_test, y_train, y_test = train_test_split(X, y, test_size=0.3, random_state=3)"
   ]
  },
  {
   "cell_type": "code",
   "execution_count": 31,
   "metadata": {},
   "outputs": [
    {
     "name": "stdout",
     "output_type": "stream",
     "text": [
      "       age  job  marital  education  default  housing  loan  contact  month  \\\n",
      "6074    30    1        1          0        1        0     2        1      6   \n",
      "30861   34    0        1          1        0        0     0        0      6   \n",
      "515     32    9        1          5        1        2     0        1      6   \n",
      "14524   32    1        2          0        0        2     0        0      3   \n",
      "\n",
      "       day_of_week  duration  campaign  pdays  previous  poutcome  \\\n",
      "6074             3        39         7     26         0         1   \n",
      "30861            3       295         2     26         0         1   \n",
      "515              3       267         2     26         0         1   \n",
      "14524            3        56         4     26         0         1   \n",
      "\n",
      "       emp.var.rate  cons.price.idx  cons.conf.idx  euribor3m  nr.employed  \n",
      "6074       0.937500        0.698753       0.602510   0.957379     0.859735  \n",
      "30861      0.333333        0.269680       0.192469   0.160961     0.512287  \n",
      "515        0.937500        0.698753       0.602510   0.957379     0.859735  \n",
      "14524      1.000000        0.669135       0.338912   0.980957     1.000000  \n"
     ]
    }
   ],
   "source": [
    "print(X_train[1:5])"
   ]
  },
  {
   "cell_type": "code",
   "execution_count": 32,
   "metadata": {},
   "outputs": [
    {
     "name": "stdout",
     "output_type": "stream",
     "text": [
      "6074     0\n",
      "30861    0\n",
      "515      0\n",
      "14524    0\n",
      "Name: y, dtype: int64\n"
     ]
    }
   ],
   "source": [
    "print(y_train[1:5])"
   ]
  },
  {
   "cell_type": "code",
   "execution_count": 33,
   "metadata": {},
   "outputs": [
    {
     "data": {
      "text/plain": [
       "((28831, 20), (28831,))"
      ]
     },
     "execution_count": 33,
     "metadata": {},
     "output_type": "execute_result"
    }
   ],
   "source": [
    "X_train.shape, y_train.shape"
   ]
  },
  {
   "cell_type": "code",
   "execution_count": 34,
   "metadata": {},
   "outputs": [
    {
     "data": {
      "text/plain": [
       "((12357, 20), (12357,))"
      ]
     },
     "execution_count": 34,
     "metadata": {},
     "output_type": "execute_result"
    }
   ],
   "source": [
    "X_test.shape, y_test.shape"
   ]
  },
  {
   "cell_type": "markdown",
   "metadata": {},
   "source": [
    "# Xây dựng mô hình với các thuật toán"
   ]
  },
  {
   "cell_type": "code",
   "execution_count": 35,
   "metadata": {
    "scrolled": true
   },
   "outputs": [
    {
     "name": "stdout",
     "output_type": "stream",
     "text": [
      "[0 0 0 1 0 0 0 0 0 0]\n"
     ]
    }
   ],
   "source": [
    "from sklearn.linear_model import LogisticRegression\n",
    "# Train mô hình logistic regression \n",
    "logistic=LogisticRegression(max_iter=10000)\n",
    "logistic.fit(X_train, y_train)\n",
    "y_logistic=logistic.predict(X_test)\n",
    "print(y_logistic[3000:3010])"
   ]
  },
  {
   "cell_type": "code",
   "execution_count": 36,
   "metadata": {
    "pycharm": {
     "name": "#%%\n"
    }
   },
   "outputs": [
    {
     "name": "stdout",
     "output_type": "stream",
     "text": [
      "[0 0 0 0 0 0 0 1 0 0]\n"
     ]
    }
   ],
   "source": [
    "from sklearn.neural_network import MLPClassifier\n",
    "# Train mô hình MLP\n",
    "mlp=MLPClassifier(max_iter=1000, hidden_layer_sizes=(15, 20, 20, 10),batch_size=20)\n",
    "mlp.fit(X_train, y_train)\n",
    "y_mlp=mlp.predict(X_test)\n",
    "print(y_mlp[4000:4010])"
   ]
  },
  {
   "cell_type": "code",
   "execution_count": 37,
   "metadata": {
    "pycharm": {
     "name": "#%%\n"
    }
   },
   "outputs": [
    {
     "name": "stdout",
     "output_type": "stream",
     "text": [
      "[0 0 1 0 0 0 0 0 0 0]\n"
     ]
    }
   ],
   "source": [
    "from sklearn.neighbors import KNeighborsClassifier\n",
    "# Train mô hình kNN\n",
    "knn=KNeighborsClassifier(n_neighbors=3)\n",
    "knn.fit(X_train, y_train)\n",
    "y_knn=knn.predict(X_test)\n",
    "print(y_knn[5000:5010])"
   ]
  },
  {
   "cell_type": "code",
   "execution_count": 38,
   "metadata": {
    "pycharm": {
     "name": "#%%\n"
    }
   },
   "outputs": [
    {
     "name": "stdout",
     "output_type": "stream",
     "text": [
      "[0 0 0 0 0 0 0 0 0 0]\n"
     ]
    }
   ],
   "source": [
    "from sklearn.svm import SVC\n",
    "# Train mô hình SVM\n",
    "svm=SVC(C=2, kernel='rbf',gamma='scale')\n",
    "svm.fit(X_train, y_train)\n",
    "y_svm=svm.predict(X_test)\n",
    "print(y_svm[6000:6010])"
   ]
  },
  {
   "cell_type": "code",
   "execution_count": 39,
   "metadata": {
    "pycharm": {
     "name": "#%%\n"
    }
   },
   "outputs": [
    {
     "name": "stdout",
     "output_type": "stream",
     "text": [
      "[0 0 0 0 0 0 0 0 0 0]\n"
     ]
    }
   ],
   "source": [
    "from sklearn.naive_bayes import GaussianNB\n",
    "# Train mô hình Naive bayes\n",
    "gnb=GaussianNB()\n",
    "gnb.fit(X_train, y_train)\n",
    "y_gnb=gnb.predict(X_test)\n",
    "print(y_gnb[7000:7010])"
   ]
  },
  {
   "cell_type": "markdown",
   "metadata": {},
   "source": [
    "# Vẽ biểu đồ thể hiện kết quả training, sử dụng early stopping và validation \n",
    "### In min mode, training will stop when the quantity monitored has stopped decreasing\n",
    "### patience:  Number of epochs with no improvement after which training will be stopped"
   ]
  },
  {
   "cell_type": "code",
   "execution_count": 40,
   "metadata": {},
   "outputs": [
    {
     "name": "stdout",
     "output_type": "stream",
     "text": [
      "Epoch 1/15\n",
      "WARNING:tensorflow:Layer dense is casting an input tensor from dtype float64 to the layer's dtype of float32, which is new behavior in TensorFlow 2.  The layer has dtype float32 because its dtype defaults to floatx.\n",
      "\n",
      "If you intended to run this layer in float32, you can safely ignore this warning. If in doubt, this warning is likely only an issue if you are porting a TensorFlow 1.X model to TensorFlow 2.\n",
      "\n",
      "To change all layers to have dtype float64 by default, call `tf.keras.backend.set_floatx('float64')`. To change just this layer, pass dtype='float64' to the layer constructor. If you are the author of this layer, you can disable autocasting by passing autocast=False to the base Layer constructor.\n",
      "\n",
      "1010/1010 [==============================] - 1s 751us/step - loss: 0.3287 - accuracy: 0.8862 - val_loss: 0.2365 - val_accuracy: 0.9031\n",
      "Epoch 2/15\n",
      "1010/1010 [==============================] - 1s 619us/step - loss: 0.2415 - accuracy: 0.9018 - val_loss: 0.2373 - val_accuracy: 0.8970\n",
      "Epoch 3/15\n",
      "1010/1010 [==============================] - 1s 616us/step - loss: 0.2305 - accuracy: 0.9064 - val_loss: 0.2173 - val_accuracy: 0.8975\n",
      "Epoch 4/15\n",
      "1010/1010 [==============================] - 1s 615us/step - loss: 0.2207 - accuracy: 0.9050 - val_loss: 0.2145 - val_accuracy: 0.9018\n",
      "Epoch 5/15\n",
      "1010/1010 [==============================] - 1s 612us/step - loss: 0.2112 - accuracy: 0.9041 - val_loss: 0.2078 - val_accuracy: 0.9059\n",
      "Epoch 6/15\n",
      "1010/1010 [==============================] - 1s 614us/step - loss: 0.2057 - accuracy: 0.9077 - val_loss: 0.2118 - val_accuracy: 0.9035\n",
      "Epoch 7/15\n",
      "1010/1010 [==============================] - 1s 618us/step - loss: 0.2048 - accuracy: 0.9050 - val_loss: 0.2281 - val_accuracy: 0.9029\n",
      "Epoch 8/15\n",
      "1010/1010 [==============================] - 1s 615us/step - loss: 0.2011 - accuracy: 0.9083 - val_loss: 0.2039 - val_accuracy: 0.9032\n",
      "Epoch 9/15\n",
      "1010/1010 [==============================] - 1s 615us/step - loss: 0.2023 - accuracy: 0.9072 - val_loss: 0.2031 - val_accuracy: 0.9073\n",
      "Epoch 10/15\n",
      "1010/1010 [==============================] - 1s 619us/step - loss: 0.1992 - accuracy: 0.9083 - val_loss: 0.2004 - val_accuracy: 0.9066\n",
      "Epoch 11/15\n",
      "1010/1010 [==============================] - 1s 616us/step - loss: 0.1973 - accuracy: 0.9082 - val_loss: 0.2063 - val_accuracy: 0.9025\n",
      "Epoch 12/15\n",
      "1010/1010 [==============================] - 1s 619us/step - loss: 0.1982 - accuracy: 0.9092 - val_loss: 0.2063 - val_accuracy: 0.9043\n",
      "Epoch 13/15\n",
      "1010/1010 [==============================] - 1s 618us/step - loss: 0.1981 - accuracy: 0.9076 - val_loss: 0.2063 - val_accuracy: 0.9046\n",
      "Epoch 14/15\n",
      "1010/1010 [==============================] - 1s 619us/step - loss: 0.1986 - accuracy: 0.9063 - val_loss: 0.2012 - val_accuracy: 0.8973\n",
      "Epoch 15/15\n",
      "1010/1010 [==============================] - 1s 620us/step - loss: 0.1961 - accuracy: 0.9098 - val_loss: 0.2000 - val_accuracy: 0.9089\n"
     ]
    },
    {
     "data": {
      "image/png": "[encoded data removed]",
      "text/plain": [
       "<Figure size 432x288 with 1 Axes>"
      ]
     },
     "metadata": {
      "needs_background": "light"
     },
     "output_type": "display_data"
    }
   ],
   "source": [
    "from keras.models import Sequential\n",
    "from keras.layers import Dense\n",
    "from keras.callbacks import EarlyStopping\n",
    "from matplotlib import pyplot\n",
    "\n",
    "# define model\n",
    "model = Sequential()\n",
    "model.add(Dense(units=10, activation='relu'))\n",
    "model.add(Dense(units=10, activation='relu'))\n",
    "model.add(Dense(units=20, activation='relu'))\n",
    "model.add(Dense(units=1, activation='sigmoid'))\n",
    "model.compile(loss='binary_crossentropy', optimizer='adam', metrics=['accuracy'])\n",
    "# patient early stopping\n",
    "es = EarlyStopping(monitor='val_loss', mode='min', verbose=1, patience=100)\n",
    "# fit model\n",
    "history = model.fit(X_train, y_train, validation_split=0.3, epochs=15,batch_size=20, callbacks=[es])\n",
    "# # evaluate the model\n",
    "\n",
    "# plot training history\n",
    "pyplot.plot(history.history['loss'], label='train')\n",
    "pyplot.plot(history.history['val_loss'], label='test')\n",
    "\n",
    "pyplot.legend()\n",
    "pyplot.show()"
   ]
  },
  {
   "cell_type": "markdown",
   "metadata": {},
   "source": [
    "# Đánh giá mô hình với các độ đo khác nhau \n"
   ]
  },
  {
   "cell_type": "code",
   "execution_count": 68,
   "metadata": {
    "pycharm": {
     "name": "#%%\n"
    },
    "scrolled": true
   },
   "outputs": [
    {
     "name": "stdout",
     "output_type": "stream",
     "text": [
      "Logistic accuracy:  0.9075018208302986\n",
      "Logistic precision:  0.6357827476038339\n",
      "Logistic recall:  0.4270386266094421\n",
      "Logistic f1 score:  0.5109114249037228\n",
      "Logistic roc_auc_score:  0.6979156998363389\n",
      "Logistic balanced_accuracy_score:  0.6979156998363389\n"
     ]
    }
   ],
   "source": [
    "from sklearn.metrics import accuracy_score, precision_score, recall_score, f1_score,roc_auc_score,balanced_accuracy_score,classification_report\n",
    "print('Logistic accuracy: ', accuracy_score(y_test, y_logistic))\n",
    "print('Logistic precision: ', precision_score(y_test, y_logistic))\n",
    "print('Logistic recall: ', recall_score(y_test, y_logistic))\n",
    "print('Logistic f1 score: ', f1_score(y_test, y_logistic))\n",
    "print('Logistic roc_auc_score: ',roc_auc_score(y_test, y_logistic))\n",
    "print('Logistic balanced_accuracy_score: ',balanced_accuracy_score(y_test, y_logistic))\n",
    "\n"
   ]
  },
  {
   "cell_type": "code",
   "execution_count": 69,
   "metadata": {},
   "outputs": [
    {
     "name": "stdout",
     "output_type": "stream",
     "text": [
      "MLP accuracy:  0.9060451565914057\n",
      "MLP precision:  0.5892991710625471\n",
      "MLP recall:  0.5593705293276109\n",
      "MLP f1 score:  0.5739449541284405\n",
      "MLP roc_auc_score:  0.7548198572361204\n",
      "MLP balanced_accuracy_score:  0.7548198572361204\n"
     ]
    }
   ],
   "source": [
    "print('MLP accuracy: ', accuracy_score(y_test, y_mlp))\n",
    "print('MLP precision: ', precision_score(y_test, y_mlp))\n",
    "print('MLP recall: ', recall_score(y_test, y_mlp))\n",
    "print('MLP f1 score: ', f1_score(y_test, y_mlp))\n",
    "print('MLP roc_auc_score: ',roc_auc_score(y_test, y_mlp))\n",
    "print('MLP balanced_accuracy_score: ',balanced_accuracy_score(y_test, y_mlp))"
   ]
  },
  {
   "cell_type": "code",
   "execution_count": 37,
   "metadata": {},
   "outputs": [
    {
     "name": "stdout",
     "output_type": "stream",
     "text": [
      "kNN accuracy:  0.8906692562919802\n",
      "kNN precision:  0.5239551478083588\n",
      "kNN recall:  0.3676680972818312\n",
      "kNN f1 score:  0.432114333753678\n",
      "kNN roc_auc_score:  0.6625273600744406\n",
      "kNN balanced_accuracy_score:  0.6625273600744406\n"
     ]
    }
   ],
   "source": [
    "print('kNN accuracy: ', accuracy_score(y_test, y_knn))\n",
    "print('kNN precision: ', precision_score(y_test, y_knn))\n",
    "print('kNN recall: ', recall_score(y_test, y_knn))\n",
    "print('kNN f1 score: ', f1_score(y_test, y_knn))\n",
    "print('kNN roc_auc_score: ',roc_auc_score(y_test, y_knn))\n",
    "print('kNN balanced_accuracy_score: ',balanced_accuracy_score(y_test, y_knn))"
   ]
  },
  {
   "cell_type": "code",
   "execution_count": 38,
   "metadata": {},
   "outputs": [
    {
     "name": "stdout",
     "output_type": "stream",
     "text": [
      "SVM accuracy:  0.9036173828599174\n",
      "SVM precision:  0.6257594167679222\n",
      "SVM recall:  0.36838340486409155\n",
      "SVM f1 score:  0.4637550652859072\n",
      "SVM roc_auc_score:  0.6701393253903448\n",
      "SVM balanced_accuracy_score:  0.6701393253903449\n"
     ]
    }
   ],
   "source": [
    "print('SVM accuracy: ', accuracy_score(y_test, y_svm))\n",
    "print('SVM precision: ', precision_score(y_test, y_svm))\n",
    "print('SVM recall: ', recall_score(y_test, y_svm))\n",
    "print('SVM f1 score: ', f1_score(y_test, y_svm))\n",
    "print('SVM roc_auc_score: ',roc_auc_score(y_test, y_svm))\n",
    "print('SVM balanced_accuracy_score: ',balanced_accuracy_score(y_test, y_svm))"
   ]
  },
  {
   "cell_type": "code",
   "execution_count": 39,
   "metadata": {},
   "outputs": [
    {
     "name": "stdout",
     "output_type": "stream",
     "text": [
      "GNB accuracy:  0.8427611879906126\n",
      "GNB precision:  0.3781850692892266\n",
      "GNB recall:  0.6051502145922747\n",
      "GNB f1 score:  0.46547455295735907\n",
      "GNB roc_auc_score:  0.7391112876045596\n",
      "GNB balanced_accuracy_score:  0.7391112876045596\n"
     ]
    }
   ],
   "source": [
    "print('GNB accuracy: ', accuracy_score(y_test, y_gnb))\n",
    "print('GNB precision: ', precision_score(y_test, y_gnb))\n",
    "print('GNB recall: ', recall_score(y_test, y_gnb))\n",
    "print('GNB f1 score: ', f1_score(y_test, y_gnb))\n",
    "print('GNB roc_auc_score: ',roc_auc_score(y_test ,y_gnb))\n",
    "print('GNB balanced_accuracy_score: ',balanced_accuracy_score(y_test, y_gnb))"
   ]
  },
  {
   "cell_type": "code",
   "execution_count": 70,
   "metadata": {},
   "outputs": [
    {
     "name": "stdout",
     "output_type": "stream",
     "text": [
      "              precision    recall  f1-score   support\n",
      "\n",
      "           0       0.93      0.97      0.95     10959\n",
      "           1       0.64      0.43      0.51      1398\n",
      "\n",
      "    accuracy                           0.91     12357\n",
      "   macro avg       0.78      0.70      0.73     12357\n",
      "weighted avg       0.90      0.91      0.90     12357\n",
      "\n"
     ]
    }
   ],
   "source": [
    "print(classification_report(y_test, y_logistic))"
   ]
  },
  {
   "cell_type": "code",
   "execution_count": 71,
   "metadata": {},
   "outputs": [
    {
     "name": "stdout",
     "output_type": "stream",
     "text": [
      "              precision    recall  f1-score   support\n",
      "\n",
      "           0       0.94      0.95      0.95     10959\n",
      "           1       0.59      0.56      0.57      1398\n",
      "\n",
      "    accuracy                           0.91     12357\n",
      "   macro avg       0.77      0.75      0.76     12357\n",
      "weighted avg       0.90      0.91      0.90     12357\n",
      "\n"
     ]
    }
   ],
   "source": [
    "print(classification_report(y_test, y_mlp))"
   ]
  },
  {
   "cell_type": "code",
   "execution_count": 72,
   "metadata": {},
   "outputs": [
    {
     "name": "stdout",
     "output_type": "stream",
     "text": [
      "              precision    recall  f1-score   support\n",
      "\n",
      "           0       0.92      0.96      0.94     10959\n",
      "           1       0.52      0.37      0.43      1398\n",
      "\n",
      "    accuracy                           0.89     12357\n",
      "   macro avg       0.72      0.66      0.69     12357\n",
      "weighted avg       0.88      0.89      0.88     12357\n",
      "\n"
     ]
    }
   ],
   "source": [
    "print(classification_report(y_test, y_knn))"
   ]
  },
  {
   "cell_type": "code",
   "execution_count": 73,
   "metadata": {},
   "outputs": [
    {
     "name": "stdout",
     "output_type": "stream",
     "text": [
      "              precision    recall  f1-score   support\n",
      "\n",
      "           0       0.92      0.97      0.95     10959\n",
      "           1       0.63      0.37      0.46      1398\n",
      "\n",
      "    accuracy                           0.90     12357\n",
      "   macro avg       0.77      0.67      0.71     12357\n",
      "weighted avg       0.89      0.90      0.89     12357\n",
      "\n"
     ]
    }
   ],
   "source": [
    "print(classification_report(y_test, y_svm))"
   ]
  },
  {
   "cell_type": "code",
   "execution_count": 74,
   "metadata": {},
   "outputs": [
    {
     "name": "stdout",
     "output_type": "stream",
     "text": [
      "              precision    recall  f1-score   support\n",
      "\n",
      "           0       0.95      0.87      0.91     10959\n",
      "           1       0.38      0.61      0.47      1398\n",
      "\n",
      "    accuracy                           0.84     12357\n",
      "   macro avg       0.66      0.74      0.69     12357\n",
      "weighted avg       0.88      0.84      0.86     12357\n",
      "\n"
     ]
    }
   ],
   "source": [
    "print(classification_report(y_test, y_gnb))"
   ]
  },
  {
   "cell_type": "code",
   "execution_count": null,
   "metadata": {},
   "outputs": [],
   "source": []
  },
  {
   "cell_type": "markdown",
   "metadata": {},
   "source": [
    "# Đánh giá mô hình có sử dụng tham số batch_size và epoch_number"
   ]
  },
  {
   "cell_type": "code",
   "execution_count": 42,
   "metadata": {},
   "outputs": [
    {
     "name": "stdout",
     "output_type": "stream",
     "text": [
      "Epoch 1/30\n",
      "865/865 [==============================] - 1s 721us/step - loss: 0.3315 - accuracy: 0.8865 - val_loss: 0.2758 - val_accuracy: 0.8875\n",
      "Epoch 2/30\n",
      "865/865 [==============================] - 1s 597us/step - loss: 0.2914 - accuracy: 0.8874 - val_loss: 0.2671 - val_accuracy: 0.8875\n",
      "Epoch 3/30\n",
      "865/865 [==============================] - 1s 594us/step - loss: 0.2820 - accuracy: 0.8875 - val_loss: 0.2592 - val_accuracy: 0.8875\n",
      "Epoch 4/30\n",
      "865/865 [==============================] - 1s 599us/step - loss: 0.2772 - accuracy: 0.8875 - val_loss: 0.2564 - val_accuracy: 0.8875\n",
      "Epoch 5/30\n",
      "865/865 [==============================] - 1s 694us/step - loss: 0.2774 - accuracy: 0.8875 - val_loss: 0.2628 - val_accuracy: 0.8875\n",
      "Epoch 6/30\n",
      "865/865 [==============================] - 1s 735us/step - loss: 0.2732 - accuracy: 0.8875 - val_loss: 0.2681 - val_accuracy: 0.8875\n",
      "Epoch 7/30\n",
      "865/865 [==============================] - 1s 672us/step - loss: 0.2721 - accuracy: 0.8875 - val_loss: 0.2535 - val_accuracy: 0.8875\n",
      "Epoch 8/30\n",
      "865/865 [==============================] - 1s 602us/step - loss: 0.2719 - accuracy: 0.8875 - val_loss: 0.2683 - val_accuracy: 0.8875\n",
      "Epoch 9/30\n",
      "865/865 [==============================] - 1s 593us/step - loss: 0.2673 - accuracy: 0.8875 - val_loss: 0.2714 - val_accuracy: 0.8875\n",
      "Epoch 10/30\n",
      "865/865 [==============================] - 1s 597us/step - loss: 0.2696 - accuracy: 0.8875 - val_loss: 0.2592 - val_accuracy: 0.8875\n",
      "Epoch 11/30\n",
      "865/865 [==============================] - 1s 608us/step - loss: 0.2686 - accuracy: 0.8875 - val_loss: 0.2657 - val_accuracy: 0.8875\n",
      "Epoch 12/30\n",
      "865/865 [==============================] - 1s 604us/step - loss: 0.2693 - accuracy: 0.8876 - val_loss: 0.2560 - val_accuracy: 0.8875\n",
      "Epoch 13/30\n",
      "865/865 [==============================] - 1s 621us/step - loss: 0.2674 - accuracy: 0.8875 - val_loss: 0.3058 - val_accuracy: 0.8875\n",
      "Epoch 14/30\n",
      "865/865 [==============================] - 1s 654us/step - loss: 0.2689 - accuracy: 0.8876 - val_loss: 0.2575 - val_accuracy: 0.8875\n",
      "Epoch 15/30\n",
      "865/865 [==============================] - 1s 655us/step - loss: 0.2670 - accuracy: 0.8876 - val_loss: 0.2648 - val_accuracy: 0.8875\n",
      "Epoch 16/30\n",
      "865/865 [==============================] - 1s 600us/step - loss: 0.2680 - accuracy: 0.8876 - val_loss: 0.2548 - val_accuracy: 0.8875\n",
      "Epoch 17/30\n",
      "865/865 [==============================] - 1s 595us/step - loss: 0.2668 - accuracy: 0.8876 - val_loss: 0.2779 - val_accuracy: 0.8875\n",
      "Epoch 18/30\n",
      "865/865 [==============================] - 1s 596us/step - loss: 0.2669 - accuracy: 0.8876 - val_loss: 0.2527 - val_accuracy: 0.8875\n",
      "Epoch 19/30\n",
      "865/865 [==============================] - 1s 590us/step - loss: 0.2648 - accuracy: 0.8876 - val_loss: 0.3123 - val_accuracy: 0.8875\n",
      "Epoch 20/30\n",
      "865/865 [==============================] - 1s 595us/step - loss: 0.2667 - accuracy: 0.8876 - val_loss: 0.2488 - val_accuracy: 0.8875\n",
      "Epoch 21/30\n",
      "865/865 [==============================] - 1s 694us/step - loss: 0.2642 - accuracy: 0.8876 - val_loss: 0.2798 - val_accuracy: 0.8875\n",
      "Epoch 22/30\n",
      "865/865 [==============================] - 1s 598us/step - loss: 0.2625 - accuracy: 0.8876 - val_loss: 0.2473 - val_accuracy: 0.8875\n",
      "Epoch 23/30\n",
      "865/865 [==============================] - 1s 606us/step - loss: 0.2645 - accuracy: 0.8876 - val_loss: 0.2645 - val_accuracy: 0.8875\n",
      "Epoch 24/30\n",
      "865/865 [==============================] - 1s 592us/step - loss: 0.2641 - accuracy: 0.8876 - val_loss: 0.2476 - val_accuracy: 0.8875\n",
      "Epoch 25/30\n",
      "865/865 [==============================] - 1s 593us/step - loss: 0.2646 - accuracy: 0.8876 - val_loss: 0.2468 - val_accuracy: 0.8875\n",
      "Epoch 26/30\n",
      "865/865 [==============================] - 1s 591us/step - loss: 0.2653 - accuracy: 0.8876 - val_loss: 0.2496 - val_accuracy: 0.8875\n",
      "Epoch 27/30\n",
      "865/865 [==============================] - 1s 592us/step - loss: 0.2647 - accuracy: 0.8876 - val_loss: 0.2545 - val_accuracy: 0.8875\n",
      "Epoch 28/30\n",
      "865/865 [==============================] - 1s 600us/step - loss: 0.2633 - accuracy: 0.8876 - val_loss: 0.2735 - val_accuracy: 0.8875\n",
      "Epoch 29/30\n",
      "865/865 [==============================] - 1s 594us/step - loss: 0.2651 - accuracy: 0.8876 - val_loss: 0.2472 - val_accuracy: 0.8875\n",
      "Epoch 30/30\n",
      "865/865 [==============================] - 1s 591us/step - loss: 0.2634 - accuracy: 0.8876 - val_loss: 0.3329 - val_accuracy: 0.8875\n",
      "387/387 [==============================] - 0s 342us/step - loss: 0.3431 - accuracy: 0.8869\n",
      "\n",
      " The accuracy when using a batch of size 10 is:  0.8868657350540161\n"
     ]
    }
   ],
   "source": [
    "from keras.models import Sequential\n",
    "from keras.layers import Dense\n",
    "def get_model():\n",
    "    model = Sequential()\n",
    "    model.add(Dense(4,input_shape=(20,),activation='relu'))\n",
    "    model.add(Dense(1,activation=\"sigmoid\"))\n",
    "    model.compile('sgd', 'binary_crossentropy', metrics=['accuracy'])\n",
    "    return model\n",
    "model = get_model()\n",
    "\n",
    "model.fit(X_train, y_train, epochs=30, batch_size=20,validation_split=0.4)\n",
    "print(\"\\n The accuracy when using a batch of size 20 is: \",model.evaluate(X_test, y_test)[1])"
   ]
  },
  {
   "cell_type": "code",
   "execution_count": null,
   "metadata": {},
   "outputs": [],
   "source": []
  }
 ],
 "metadata": {
  "kernelspec": {
   "display_name": "Python 3",
   "language": "python",
   "name": "python3"
  },
  "language_info": {
   "codemirror_mode": {
    "name": "ipython",
    "version": 3
   },
   "file_extension": ".py",
   "mimetype": "text/x-python",
   "name": "python",
   "nbconvert_exporter": "python",
   "pygments_lexer": "ipython3",
   "version": "3.8.3"
  }
 },
 "nbformat": 4,
 "nbformat_minor": 2
}
