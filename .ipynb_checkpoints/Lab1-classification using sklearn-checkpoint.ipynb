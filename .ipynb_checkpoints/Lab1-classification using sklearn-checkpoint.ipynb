{
 "cells": [
  {
   "cell_type": "code",
   "execution_count": 17,
   "metadata": {},
   "outputs": [],
   "source": [
    "import numpy as np\n",
    "import pandas as pd"
   ]
  },
  {
   "cell_type": "code",
   "execution_count": 18,
   "metadata": {},
   "outputs": [
    {
     "name": "stdout",
     "output_type": "stream",
     "text": [
      "Index(['5.1', '3.5', '1.4', '0.2', 'Iris-setosa'], dtype='object')\n",
      "   5.1  3.5  1.4  0.2  Iris-setosa\n",
      "0  4.9  3.0  1.4  0.2  Iris-setosa\n",
      "1  4.7  3.2  1.3  0.2  Iris-setosa\n",
      "2  4.6  3.1  1.5  0.2  Iris-setosa\n",
      "3  5.0  3.6  1.4  0.2  Iris-setosa\n",
      "4  5.4  3.9  1.7  0.4  Iris-setosa\n"
     ]
    }
   ],
   "source": [
    "#https://archive.ics.uci.edu/ml/machine-learning-databases/iris/\n",
    "file_name = 'data/iris.data'\n",
    "df = pd.read_csv(file_name)\n",
    "print(df.columns)\n",
    "print(df.head(5))"
   ]
  },
  {
   "cell_type": "code",
   "execution_count": 19,
   "metadata": {},
   "outputs": [
    {
     "name": "stdout",
     "output_type": "stream",
     "text": [
      "[[4.9 3.0 1.4 0.2 'Iris-setosa']\n",
      " [4.7 3.2 1.3 0.2 'Iris-setosa']\n",
      " [4.6 3.1 1.5 0.2 'Iris-setosa']\n",
      " [5.0 3.6 1.4 0.2 'Iris-setosa']\n",
      " [5.4 3.9 1.7 0.4 'Iris-setosa']]\n"
     ]
    }
   ],
   "source": [
    "data = df.values\n",
    "print(data[:5])"
   ]
  },
  {
   "cell_type": "code",
   "execution_count": 20,
   "metadata": {},
   "outputs": [
    {
     "name": "stdout",
     "output_type": "stream",
     "text": [
      "[[4.9 3.0 1.4 0.2]\n",
      " [4.7 3.2 1.3 0.2]\n",
      " [4.6 3.1 1.5 0.2]]\n",
      "['Iris-setosa' 'Iris-setosa' 'Iris-setosa']\n"
     ]
    }
   ],
   "source": [
    "# prepare data\n",
    "X = data[:,:-1]\n",
    "y = data[:,-1:]\n",
    "y = y.ravel()\n",
    "print(X[:3])\n",
    "print(y[:3])"
   ]
  },
  {
   "cell_type": "code",
   "execution_count": 21,
   "metadata": {},
   "outputs": [
    {
     "name": "stdout",
     "output_type": "stream",
     "text": [
      "[0 0 0 0 0 0 0 0 0 0 0 0 0 0 0 0 0 0 0 0 0 0 0 0 0 0 0 0 0 0 0 0 0 0 0 0 0\n",
      " 0 0 0 0 0 0 0 0 0 0 0 0 1 1 1 1 1 1 1 1 1 1 1 1 1 1 1 1 1 1 1 1 1 1 1 1 1\n",
      " 1 1 1 1 1 1 1 1 1 1 1 1 1 1 1 1 1 1 1 1 1 1 1 1 1 2 2 2 2 2 2 2 2 2 2 2 2\n",
      " 2 2 2 2 2 2 2 2 2 2 2 2 2 2 2 2 2 2 2 2 2 2 2 2 2 2 2 2 2 2 2 2 2 2 2 2 2\n",
      " 2]\n"
     ]
    }
   ],
   "source": [
    "from sklearn.preprocessing import LabelEncoder\n",
    "LE = LabelEncoder()\n",
    "y = LE.fit_transform(y)\n",
    "print(y)"
   ]
  },
  {
   "cell_type": "code",
   "execution_count": 22,
   "metadata": {},
   "outputs": [
    {
     "name": "stdout",
     "output_type": "stream",
     "text": [
      "(119, 4) (119,)\n",
      "(30, 4) (30,)\n"
     ]
    }
   ],
   "source": [
    "from sklearn.model_selection import train_test_split \n",
    "X_train,X_test,y_train,y_test = train_test_split(X,y,test_size=0.2,random_state=4)\n",
    "print(X_train.shape,y_train.shape)\n",
    "print(X_test.shape,y_test.shape)"
   ]
  },
  {
   "cell_type": "code",
   "execution_count": 23,
   "metadata": {},
   "outputs": [
    {
     "name": "stdout",
     "output_type": "stream",
     "text": [
      "[[6.3 2.8 5.1 1.5]\n",
      " [4.7 3.2 1.3 0.2]\n",
      " [6.1 3.0 4.6 1.4]]\n",
      "[2 0 1]\n"
     ]
    }
   ],
   "source": [
    "print(X_train[:3])\n",
    "print(y_train[:3])"
   ]
  },
  {
   "cell_type": "code",
   "execution_count": 10,
   "metadata": {},
   "outputs": [
    {
     "name": "stdout",
     "output_type": "stream",
     "text": [
      "y_pred:\n",
      " [0 0 0 2 0 0 2 0 1 0 2 0 0 1 2 0 0 1 0 1 1 0 2 0 2 0 0 1 0 2]\n",
      "y_true:\n",
      " [0 0 0 2 0 0 1 0 1 0 2 0 0 1 2 0 0 1 0 1 1 0 2 0 2 0 0 2 0 2]\n",
      "accuracy:\n",
      " 0.9333333333333333\n"
     ]
    }
   ],
   "source": [
    "#phân loại với KNN\n",
    "from sklearn.neighbors import KNeighborsClassifier\n",
    "from sklearn import metrics \n",
    "k = 5\n",
    "knn = KNeighborsClassifier(n_neighbors=k,metric='euclidean')\n",
    "knn.fit(X_train,y_train)\n",
    "\n",
    "y_pred = knn.predict(X_test)\n",
    "print('y_pred:\\n',y_pred) \n",
    "print('y_true:\\n',y_test) \n",
    "\n",
    "# tính accuracy \n",
    "acc_score = metrics.accuracy_score(y_pred,y_test) \n",
    "print('accuracy:\\n',acc_score) "
   ]
  },
  {
   "cell_type": "code",
   "execution_count": 32,
   "metadata": {},
   "outputs": [
    {
     "name": "stdout",
     "output_type": "stream",
     "text": [
      "predict:\n",
      " [0 0 0 2 0 0 2 0 1 0 2 0 0 1 2 0 0 1 0 1 1 0 2 0 2 0 0 2 0 2]\n",
      "y_true:\n",
      " [0 0 0 2 0 0 1 0 1 0 2 0 0 1 2 0 0 1 0 1 1 0 2 0 2 0 0 2 0 2]\n",
      "accuracy:\n",
      " 0.9666666666666667\n"
     ]
    }
   ],
   "source": [
    "# ví dụ về sử dụng SVM \n",
    "from sklearn import svm \n",
    "svm_classifier = svm.SVC(kernel='linear',gamma=0.01, C=100.)\n",
    "svm_classifier.fit(X_train,y_train)\n",
    "\n",
    "y_pred_svm = svm_classifier.predict(X_test)\n",
    "print('predict:\\n',y_pred_svm)\n",
    "print('y_true:\\n',y_test) \n",
    "\n",
    "acc_score_svm = metrics.accuracy_score(y_pred_svm,y_test) \n",
    "print('accuracy:\\n',acc_score_svm) "
   ]
  },
  {
   "cell_type": "code",
   "execution_count": 35,
   "metadata": {},
   "outputs": [
    {
     "name": "stdout",
     "output_type": "stream",
     "text": [
      "[0 0 0 2 0 0 2 0 1 0 2 0 0 1 2 0 0 1 0 1 1 0 2 0 2 0 0 1 0 2]\n",
      "accuracy:\n",
      " 0.9333333333333333\n"
     ]
    }
   ],
   "source": [
    "# thử nghiệm với Logistic Regression\n",
    "from sklearn.linear_model import LogisticRegression  \n",
    "model = LogisticRegression()\n",
    "model = model.fit(X_train,y_train)\n",
    "y_pred = model.predict(X_test)\n",
    "print(y_pred)\n",
    "acc_score = metrics.accuracy_score(y_pred,y_test) \n",
    "print('accuracy:\\n',acc_score) "
   ]
  },
  {
   "cell_type": "code",
   "execution_count": 40,
   "metadata": {},
   "outputs": [
    {
     "name": "stdout",
     "output_type": "stream",
     "text": [
      "[[9.60735352e-01 3.92644250e-02 2.22645948e-07]\n",
      " [9.65315762e-01 3.46841861e-02 5.17917365e-08]\n",
      " [9.84622591e-01 1.53773818e-02 2.75294785e-08]]\n"
     ]
    }
   ],
   "source": [
    "y_proba = model.predict_proba(X_test)\n",
    "print(y_proba[:3])"
   ]
  },
  {
   "cell_type": "code",
   "execution_count": 41,
   "metadata": {},
   "outputs": [
    {
     "name": "stdout",
     "output_type": "stream",
     "text": [
      "precision: [1.         0.83333333 0.85714286]\n",
      "recall: [1.         0.83333333 0.85714286]\n",
      "fscore: [1.         0.83333333 0.85714286]\n",
      "support: [17  6  7]\n"
     ]
    }
   ],
   "source": [
    "from sklearn.metrics import precision_recall_fscore_support as score\n",
    "\n",
    "precision, recall, fscore, support = score(y_test, y_pred)\n",
    "\n",
    "print('precision: {}'.format(precision))\n",
    "print('recall: {}'.format(recall))\n",
    "print('fscore: {}'.format(fscore))\n",
    "print('support: {}'.format(support))"
   ]
  },
  {
   "cell_type": "code",
   "execution_count": null,
   "metadata": {},
   "outputs": [],
   "source": []
  }
 ],
 "metadata": {
  "kernelspec": {
   "display_name": "Python 3",
   "language": "python",
   "name": "python3"
  },
  "language_info": {
   "codemirror_mode": {
    "name": "ipython",
    "version": 3
   },
   "file_extension": ".py",
   "mimetype": "text/x-python",
   "name": "python",
   "nbconvert_exporter": "python",
   "pygments_lexer": "ipython3",
   "version": "3.8.3"
  }
 },
 "nbformat": 4,
 "nbformat_minor": 2
}
