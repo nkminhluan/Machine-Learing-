{
 "cells": [
  {
   "cell_type": "code",
   "execution_count": 1,
   "metadata": {},
   "outputs": [],
   "source": [
    "import numpy as np\n",
    "import pandas as pd\n",
    "from sklearn.linear_model import LogisticRegression\n",
    "from sklearn import metrics"
   ]
  },
  {
   "cell_type": "code",
   "execution_count": 2,
   "metadata": {},
   "outputs": [
    {
     "name": "stdout",
     "output_type": "stream",
     "text": [
      "Index(['X', 'Y', 'month', 'day', 'FFMC', 'DMC', 'DC', 'ISI', 'temp', 'RH',\n",
      "       'wind', 'rain', 'area'],\n",
      "      dtype='object')\n",
      "   X  Y month  day  FFMC   DMC     DC  ISI  temp  RH  wind  rain  area\n",
      "0  7  5   mar  fri  86.2  26.2   94.3  5.1   8.2  51   6.7   0.0   0.0\n",
      "1  7  4   oct  tue  90.6  35.4  669.1  6.7  18.0  33   0.9   0.0   0.0\n",
      "2  7  4   oct  sat  90.6  43.7  686.9  6.7  14.6  33   1.3   0.0   0.0\n",
      "3  8  6   mar  fri  91.7  33.3   77.5  9.0   8.3  97   4.0   0.2   0.0\n",
      "4  8  6   mar  sun  89.3  51.3  102.2  9.6  11.4  99   1.8   0.0   0.0\n"
     ]
    }
   ],
   "source": [
    "file_name = 'forestfires.csv'\n",
    "df = pd.read_csv(file_name)\n",
    "print(df.columns)\n",
    "print(df.head(5))"
   ]
  },
  {
   "cell_type": "code",
   "execution_count": 3,
   "metadata": {},
   "outputs": [
    {
     "name": "stdout",
     "output_type": "stream",
     "text": [
      "(517, 13)\n"
     ]
    }
   ],
   "source": [
    "print(df.shape)"
   ]
  },
  {
   "cell_type": "code",
   "execution_count": 4,
   "metadata": {},
   "outputs": [
    {
     "name": "stdout",
     "output_type": "stream",
     "text": [
      "517\n",
      "200\n"
     ]
    }
   ],
   "source": [
    "print(len(df))\n",
    "df = df.sample(n=200)\n",
    "print(len(df))"
   ]
  },
  {
   "cell_type": "code",
   "execution_count": 5,
   "metadata": {},
   "outputs": [
    {
     "name": "stdout",
     "output_type": "stream",
     "text": [
      "[[8 6 'jun' 'wed' 91.2 147.8 377.2 12.7 19.6 43 4.9 0.0 0.0]\n",
      " [5 4 'sep' 'wed' 92.9 133.3 699.6 9.2 21.9 35 1.8 0.0 2.57]\n",
      " [7 4 'aug' 'sun' 91.4 142.4 601.4 10.6 16.3 60 5.4 0.0 0.0]]\n"
     ]
    }
   ],
   "source": [
    "a = df.values\n",
    "print(a[:3])\n"
   ]
  },
  {
   "cell_type": "code",
   "execution_count": 6,
   "metadata": {},
   "outputs": [
    {
     "name": "stdout",
     "output_type": "stream",
     "text": [
      "(200, 13)\n",
      "13\n",
      "(200, 1)\n"
     ]
    }
   ],
   "source": [
    "print(a.shape)\n",
    "n = a.shape[1]\n",
    "print(n)\n",
    "y = a[:,[n-1]]\n",
    "print(y.shape)"
   ]
  },
  {
   "cell_type": "code",
   "execution_count": 7,
   "metadata": {},
   "outputs": [
    {
     "name": "stdout",
     "output_type": "stream",
     "text": [
      "[  0  26   0  72  43 103   0  85   0  40]\n",
      "200\n",
      "1\n",
      "95\n"
     ]
    },
    {
     "name": "stderr",
     "output_type": "stream",
     "text": [
      "/opt/anaconda3/lib/python3.8/site-packages/sklearn/utils/validation.py:73: DataConversionWarning: A column-vector y was passed when a 1d array was expected. Please change the shape of y to (n_samples, ), for example using ravel().\n",
      "  return f(**kwargs)\n"
     ]
    }
   ],
   "source": [
    "from sklearn.preprocessing import LabelEncoder\n",
    "LE = LabelEncoder()\n",
    "y = LE.fit_transform(y)\n",
    "print(y[:10])\n",
    "print(len(y))\n",
    "y1 = y[y==1]\n",
    "print(len(y1))\n",
    "y0 = y[y==0]\n",
    "print(len(y0))"
   ]
  },
  {
   "cell_type": "code",
   "execution_count": 8,
   "metadata": {},
   "outputs": [
    {
     "name": "stdout",
     "output_type": "stream",
     "text": [
      "[[8 6 'jun' 'wed' 91.2 147.8 377.2 12.7 19.6 43 4.9 0.0]\n",
      " [5 4 'sep' 'wed' 92.9 133.3 699.6 9.2 21.9 35 1.8 0.0]\n",
      " [7 4 'aug' 'sun' 91.4 142.4 601.4 10.6 16.3 60 5.4 0.0]]\n",
      "(200, 12)\n",
      "(200, 12)\n"
     ]
    }
   ],
   "source": [
    "X = a[:,:-1]\n",
    "print(X[:3])\n",
    "print(X.shape)\n",
    "X= X[:,:]\n",
    "print(X.shape)"
   ]
  },
  {
   "cell_type": "code",
   "execution_count": 9,
   "metadata": {},
   "outputs": [
    {
     "name": "stdout",
     "output_type": "stream",
     "text": [
      "(200, 11)\n",
      "     X  Y  FFMC    DMC     DC   ISI  temp  RH  wind  rain   area\n",
      "298  8  6  91.2  147.8  377.2  12.7  19.6  43   4.9   0.0   0.00\n",
      "170  5  4  92.9  133.3  699.6   9.2  21.9  35   1.8   0.0   2.57\n",
      "25   7  4  91.4  142.4  601.4  10.6  16.3  60   5.4   0.0   0.00\n",
      "355  4  4  92.1   99.0  745.3   9.6  20.8  35   4.9   0.0  13.06\n",
      "178  2  5  90.1   82.9  735.7   6.2  18.3  45   2.2   0.0   4.88\n",
      "..  .. ..   ...    ...    ...   ...   ...  ..   ...   ...    ...\n",
      "219  6  5  90.1   39.7   86.6   6.2  15.2  27   3.1   0.0  31.86\n",
      "132  4  6  89.3   51.3  102.2   9.6  10.6  46   4.9   0.0   0.00\n",
      "52   4  3  92.1  111.2  654.1   9.6  20.4  42   4.9   0.0   0.00\n",
      "309  2  4  92.4  105.8  758.1   9.9  24.9  27   2.2   0.0   0.00\n",
      "100  3  4  91.4  142.4  601.4  10.6  19.8  39   5.4   0.0   0.00\n",
      "\n",
      "[200 rows x 11 columns]\n",
      "(200, 11)\n",
      "[[  8.     6.    91.2  147.8  377.2   12.7   19.6   43.     4.9    0.\n",
      "    0.  ]\n",
      " [  5.     4.    92.9  133.3  699.6    9.2   21.9   35.     1.8    0.\n",
      "    2.57]\n",
      " [  7.     4.    91.4  142.4  601.4   10.6   16.3   60.     5.4    0.\n",
      "    0.  ]]\n"
     ]
    }
   ],
   "source": [
    "b = df.select_dtypes(include=['float64','int64'])\n",
    "print(b.shape)\n",
    "print(b)\n",
    "X = b.values\n",
    "print(X.shape)\n",
    "print(X[:3])"
   ]
  },
  {
   "cell_type": "code",
   "execution_count": 10,
   "metadata": {},
   "outputs": [
    {
     "name": "stdout",
     "output_type": "stream",
     "text": [
      "[[0.875      0.57142857 0.8470948  ... 0.5        0.         0.        ]\n",
      " [0.5        0.28571429 0.89908257 ... 0.15555556 0.         0.00235598]\n",
      " [0.75       0.28571429 0.85321101 ... 0.55555556 0.         0.        ]\n",
      " ...\n",
      " [0.375      0.14285714 0.87461774 ... 0.5        0.         0.        ]\n",
      " [0.125      0.28571429 0.88379205 ... 0.2        0.         0.        ]\n",
      " [0.25       0.28571429 0.85321101 ... 0.55555556 0.         0.        ]]\n"
     ]
    }
   ],
   "source": [
    "from sklearn.preprocessing import MinMaxScaler\n",
    "scaler = MinMaxScaler()\n",
    "scaler.fit(X)\n",
    "X = scaler.transform(X)\n",
    "print(X)\n"
   ]
  },
  {
   "cell_type": "code",
   "execution_count": 11,
   "metadata": {},
   "outputs": [
    {
     "name": "stdout",
     "output_type": "stream",
     "text": [
      "(160, 11) (160,)\n",
      "(40, 11) (40,)\n"
     ]
    }
   ],
   "source": [
    "from sklearn.model_selection import train_test_split\n",
    "X_train, X_test,y_train,y_test = train_test_split(X,y,test_size=0.2,random_state=4)\n",
    "print(X_train.shape, y_train.shape)\n",
    "print(X_test.shape,y_test.shape)"
   ]
  },
  {
   "cell_type": "code",
   "execution_count": 12,
   "metadata": {},
   "outputs": [
    {
     "name": "stdout",
     "output_type": "stream",
     "text": [
      "[0 0 0 0 0 0 0 0 0 0 0 0 0 0 0 0 0 0 0 0 0 0 0 0 0 0 0 0 0 0 0 0 0 0 0 0 0\n",
      " 0 0 0]\n",
      "accuracy:\n",
      " 0.525\n"
     ]
    }
   ],
   "source": [
    "from sklearn.linear_model import LogisticRegression\n",
    "model = LogisticRegression()\n",
    "model = model.fit(X_train,y_train)\n",
    "y_pred = model.predict(X_test)\n",
    "print(y_pred)\n",
    "acc_score = metrics.accuracy_score(y_pred,y_test)\n",
    "print('accuracy:\\n', acc_score)"
   ]
  },
  {
   "cell_type": "code",
   "execution_count": null,
   "metadata": {},
   "outputs": [],
   "source": []
  },
  {
   "cell_type": "code",
   "execution_count": null,
   "metadata": {},
   "outputs": [],
   "source": []
  },
  {
   "cell_type": "code",
   "execution_count": null,
   "metadata": {},
   "outputs": [],
   "source": []
  }
 ],
 "metadata": {
  "kernelspec": {
   "display_name": "Python 3",
   "language": "python",
   "name": "python3"
  },
  "language_info": {
   "codemirror_mode": {
    "name": "ipython",
    "version": 3
   },
   "file_extension": ".py",
   "mimetype": "text/x-python",
   "name": "python",
   "nbconvert_exporter": "python",
   "pygments_lexer": "ipython3",
   "version": "3.8.3"
  }
 },
 "nbformat": 4,
 "nbformat_minor": 4
}
