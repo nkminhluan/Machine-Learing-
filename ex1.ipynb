{
 "cells": [
  {
   "cell_type": "code",
   "execution_count": 1,
   "metadata": {},
   "outputs": [],
   "source": [
    "import numpy as np\n",
    "import pandas as pd\n",
    "from sklearn.linear_model import LinearRegression  "
   ]
  },
  {
   "cell_type": "code",
   "execution_count": 2,
   "metadata": {},
   "outputs": [
    {
     "name": "stdout",
     "output_type": "stream",
     "text": [
      "(517, 13)\n",
      "   X  Y month  day  FFMC   DMC    DC  ISI  temp  RH  wind  rain  area\n",
      "0  7  5   mar  fri  86.2  26.2  94.3  5.1   8.2  51   6.7   0.0   0.0\n"
     ]
    }
   ],
   "source": [
    "# input data\n",
    "df = pd.read_csv(\"forestfires.csv\")\n",
    "print(df.shape)\n",
    "print(df.head(1))"
   ]
  },
  {
   "cell_type": "code",
   "execution_count": 3,
   "metadata": {},
   "outputs": [
    {
     "name": "stdout",
     "output_type": "stream",
     "text": [
      "(517, 11)\n"
     ]
    }
   ],
   "source": [
    "b = df.select_dtypes(include=['float','int','float64', 'int64'])\n",
    "print(b.shape)\n",
    "#print(b[:3])"
   ]
  },
  {
   "cell_type": "code",
   "execution_count": 4,
   "metadata": {},
   "outputs": [
    {
     "name": "stdout",
     "output_type": "stream",
     "text": [
      "['area']\n"
     ]
    }
   ],
   "source": [
    "list_heads = df.columns.tolist() \n",
    "#print(list_heads)\n",
    "selected_heads = [x for x in list_heads if 'area' in x ]\n",
    "print(selected_heads)\n"
   ]
  },
  {
   "cell_type": "code",
   "execution_count": 5,
   "metadata": {},
   "outputs": [
    {
     "name": "stdout",
     "output_type": "stream",
     "text": [
      "     area\n",
      "150  1.19\n",
      "151  1.36\n",
      "152  1.43\n",
      "153  1.46\n",
      "154  1.46\n",
      "155  1.56\n",
      "156  1.61\n",
      "157  1.63\n",
      "158  1.64\n",
      "159  1.69\n"
     ]
    }
   ],
   "source": [
    "new_data = b[selected_heads]\n",
    "print(new_data[150:160])"
   ]
  },
  {
   "cell_type": "code",
   "execution_count": 6,
   "metadata": {},
   "outputs": [],
   "source": [
    "from sklearn.preprocessing import MinMaxScaler\n",
    "scaler = MinMaxScaler()\n",
    "scaler.fit(new_data)\n",
    "new_data = scaler.transform(new_data)\n"
   ]
  },
  {
   "cell_type": "code",
   "execution_count": 7,
   "metadata": {},
   "outputs": [
    {
     "name": "stdout",
     "output_type": "stream",
     "text": [
      "[[0.0010909 ]\n",
      " [0.00124675]\n",
      " [0.00131092]]\n",
      "(30, 1)\n"
     ]
    }
   ],
   "source": [
    "X_train = new_data[150:180]\n",
    "X_test = new_data[181:190]\n",
    "print(X_train[:3])\n",
    "print(X_train.shape)"
   ]
  },
  {
   "cell_type": "code",
   "execution_count": 8,
   "metadata": {},
   "outputs": [
    {
     "name": "stdout",
     "output_type": "stream",
     "text": [
      "(517, 1)\n",
      "[0.54340836 0.32797428 0.46945338 0.59807074 0.49517685 0.29903537\n",
      " 0.60450161 0.35691318 0.29903537]\n"
     ]
    }
   ],
   "source": [
    "y = df[['temp']]\n",
    "print(y.shape)\n",
    "#print(y)\n",
    "scaler = MinMaxScaler()\n",
    "scaler.fit(y)\n",
    "y = scaler.transform(y)\n",
    "y = y.ravel()\n",
    "y_train = y[150:180]\n",
    "y_test = y[181:190]\n",
    "print(y_test)"
   ]
  },
  {
   "cell_type": "code",
   "execution_count": 9,
   "metadata": {},
   "outputs": [
    {
     "data": {
      "text/plain": [
       "LinearRegression()"
      ]
     },
     "execution_count": 9,
     "metadata": {},
     "output_type": "execute_result"
    }
   ],
   "source": [
    "model = LinearRegression()\n",
    "model.fit(X_train,y_train)"
   ]
  },
  {
   "cell_type": "code",
   "execution_count": 17,
   "metadata": {},
   "outputs": [
    {
     "name": "stdout",
     "output_type": "stream",
     "text": [
      "[0.36374851 0.30990585 0.28413012 0.27668379 0.27210144 0.26350952\n",
      " 0.25720879 0.25148085 0.20336613]\n",
      "[0.54340836 0.32797428 0.46945338 0.59807074 0.49517685 0.29903537\n",
      " 0.60450161 0.35691318 0.29903537]\n"
     ]
    },
    {
     "data": {
      "text/html": [
       "<div>\n",
       "<style scoped>\n",
       "    .dataframe tbody tr th:only-of-type {\n",
       "        vertical-align: middle;\n",
       "    }\n",
       "\n",
       "    .dataframe tbody tr th {\n",
       "        vertical-align: top;\n",
       "    }\n",
       "\n",
       "    .dataframe thead th {\n",
       "        text-align: right;\n",
       "    }\n",
       "</style>\n",
       "<table border=\"1\" class=\"dataframe\">\n",
       "  <thead>\n",
       "    <tr style=\"text-align: right;\">\n",
       "      <th></th>\n",
       "      <th>Actual</th>\n",
       "      <th>Predicted</th>\n",
       "    </tr>\n",
       "  </thead>\n",
       "  <tbody>\n",
       "    <tr>\n",
       "      <th>0</th>\n",
       "      <td>0.543408</td>\n",
       "      <td>0.363749</td>\n",
       "    </tr>\n",
       "    <tr>\n",
       "      <th>1</th>\n",
       "      <td>0.327974</td>\n",
       "      <td>0.309906</td>\n",
       "    </tr>\n",
       "    <tr>\n",
       "      <th>2</th>\n",
       "      <td>0.469453</td>\n",
       "      <td>0.284130</td>\n",
       "    </tr>\n",
       "    <tr>\n",
       "      <th>3</th>\n",
       "      <td>0.598071</td>\n",
       "      <td>0.276684</td>\n",
       "    </tr>\n",
       "    <tr>\n",
       "      <th>4</th>\n",
       "      <td>0.495177</td>\n",
       "      <td>0.272101</td>\n",
       "    </tr>\n",
       "    <tr>\n",
       "      <th>5</th>\n",
       "      <td>0.299035</td>\n",
       "      <td>0.263510</td>\n",
       "    </tr>\n",
       "    <tr>\n",
       "      <th>6</th>\n",
       "      <td>0.604502</td>\n",
       "      <td>0.257209</td>\n",
       "    </tr>\n",
       "    <tr>\n",
       "      <th>7</th>\n",
       "      <td>0.356913</td>\n",
       "      <td>0.251481</td>\n",
       "    </tr>\n",
       "    <tr>\n",
       "      <th>8</th>\n",
       "      <td>0.299035</td>\n",
       "      <td>0.203366</td>\n",
       "    </tr>\n",
       "  </tbody>\n",
       "</table>\n",
       "</div>"
      ],
      "text/plain": [
       "     Actual  Predicted\n",
       "0  0.543408   0.363749\n",
       "1  0.327974   0.309906\n",
       "2  0.469453   0.284130\n",
       "3  0.598071   0.276684\n",
       "4  0.495177   0.272101\n",
       "5  0.299035   0.263510\n",
       "6  0.604502   0.257209\n",
       "7  0.356913   0.251481\n",
       "8  0.299035   0.203366"
      ]
     },
     "execution_count": 17,
     "metadata": {},
     "output_type": "execute_result"
    }
   ],
   "source": [
    "y_pred = model.predict(X_test)\n",
    "print(y_pred)\n",
    "print(y_test)\n"
   ]
  },
  {
   "cell_type": "code",
   "execution_count": 11,
   "metadata": {},
   "outputs": [
    {
     "name": "stdout",
     "output_type": "stream",
     "text": [
      "[[13.51257862]\n",
      " [11.83807206]\n",
      " [11.03644658]\n",
      " [10.80486589]\n",
      " [10.66235469]\n",
      " [10.3951462 ]\n",
      " [10.1991933 ]\n",
      " [10.02105431]\n",
      " [ 8.52468674]]\n"
     ]
    }
   ],
   "source": [
    "y_pred1 = [[x] for x in y_pred]\n",
    "y_original = scaler.inverse_transform(y_pred1)\n",
    "print(y_original)"
   ]
  },
  {
   "cell_type": "code",
   "execution_count": 14,
   "metadata": {},
   "outputs": [
    {
     "name": "stdout",
     "output_type": "stream",
     "text": [
      "R2 Score = -1.8805042602503685\n",
      "-1.8805042602503685\n"
     ]
    }
   ],
   "source": [
    "from sklearn.metrics import r2_score\n",
    "print('R2 Score =', r2_score(y_test,y_pred))\n",
    "print(model.score(X_test,y_test))"
   ]
  },
  {
   "cell_type": "code",
   "execution_count": null,
   "metadata": {},
   "outputs": [],
   "source": []
  }
 ],
 "metadata": {
  "kernelspec": {
   "display_name": "Python 3",
   "language": "python",
   "name": "python3"
  },
  "language_info": {
   "codemirror_mode": {
    "name": "ipython",
    "version": 3
   },
   "file_extension": ".py",
   "mimetype": "text/x-python",
   "name": "python",
   "nbconvert_exporter": "python",
   "pygments_lexer": "ipython3",
   "version": "3.8.3"
  }
 },
 "nbformat": 4,
 "nbformat_minor": 2
}
